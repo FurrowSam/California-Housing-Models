{
 "cells": [
  {
   "cell_type": "code",
   "execution_count": 1,
   "metadata": {},
   "outputs": [],
   "source": [
    "# import dependencies\n",
    "import pandas as pd\n",
    "from sklearn.model_selection import train_test_split\n",
    "from sklearn.metrics import accuracy_score\n",
    "from sklearn.linear_model import LogisticRegression\n",
    "from sklearn.preprocessing import StandardScaler\n",
    "from sklearn.metrics import accuracy_score, confusion_matrix"
   ]
  },
  {
   "cell_type": "markdown",
   "metadata": {},
   "source": [
    "# Unbalanced 2022 Logistic Regression Model"
   ]
  },
  {
   "cell_type": "code",
   "execution_count": 2,
   "metadata": {},
   "outputs": [
    {
     "name": "stdout",
     "output_type": "stream",
     "text": [
      "  HeartDisease    BMI Smoking AlcoholDrinking Stroke  PhysicalHealth  \\\n",
      "0           No  27.99     Yes              No     No             4.0   \n",
      "1           No  30.13     Yes              No     No             0.0   \n",
      "2           No  31.66     Yes             Yes     No             0.0   \n",
      "3           No  31.32      No              No     No             5.0   \n",
      "4           No  33.07      No              No     No             3.0   \n",
      "\n",
      "   MentalHealth DiffWalking     Sex  AgeCategory   Race Diabetic  \\\n",
      "0           0.0          No  Female        65-69  White       No   \n",
      "1           0.0          No    Male        70-74  White      Yes   \n",
      "2           0.0         Yes    Male        75-79  White       No   \n",
      "3           0.0         Yes  Female  80 or older  White       No   \n",
      "4          15.0          No  Female  80 or older  White       No   \n",
      "\n",
      "  PhysicalActivity  GenHealth  SleepTime Asthma KidneyDisease SkinCancer  \n",
      "0              Yes  Very good        9.0     No            No         No  \n",
      "1              Yes  Very good        6.0     No            No         No  \n",
      "2               No  Very good        8.0     No            No         No  \n",
      "3              Yes       Fair        9.0     No            No        Yes  \n",
      "4              Yes       Good        5.0     No            No         No  \n"
     ]
    }
   ],
   "source": [
    "# read the heart_2022_encoded.csv file\n",
    "heart_2022_cleaned = pd.read_csv('heart_2022_cleaned.csv')\n",
    "# display the first 5 rows of the dataframe\n",
    "print(heart_2022_cleaned.head())\n"
   ]
  },
  {
   "cell_type": "code",
   "execution_count": 3,
   "metadata": {},
   "outputs": [],
   "source": [
    "# Separate the dataset into two subsets based on the HeartDisease_Yes and HeartDisease_No columns\n",
    "#heart_disease_yes = heart_2022_cleaned[heart_2022_cleaned['HeartDisease'] == 'Yes']\n",
    "#heart_disease_no = heart_2022_cleaned[heart_2022_cleaned['HeartDisease'] == 'No']"
   ]
  },
  {
   "cell_type": "code",
   "execution_count": 4,
   "metadata": {},
   "outputs": [],
   "source": [
    "# Balance the dataset by sampling an equal number of cases from each subset\n",
    "# Determine the number of samples to match based on the smaller subset\n",
    "#min_count = min(len(heart_disease_yes), len(heart_disease_no))\n",
    "# Display the number of samples to match\n",
    "#min_count\n"
   ]
  },
  {
   "cell_type": "code",
   "execution_count": 5,
   "metadata": {},
   "outputs": [],
   "source": [
    "# Sample from each subset\n",
    "#balanced_2022_heart_disease_yes = heart_disease_yes.sample(n=min_count, random_state=42)\n",
    "#balanced_2022_heart_disease_no = heart_disease_no.sample(n=min_count, random_state=42)\n"
   ]
  },
  {
   "cell_type": "code",
   "execution_count": 6,
   "metadata": {},
   "outputs": [],
   "source": [
    "# Combine the balanced subsets and reset the index\n",
    "#balanced_2022_dataset = pd.concat([balanced_2022_heart_disease_yes, balanced_2022_heart_disease_no]).reset_index(drop=True)\n",
    "# Display the first 5 rows of the balanced dataset\n",
    "#balanced_2022_dataset.head()"
   ]
  },
  {
   "cell_type": "code",
   "execution_count": 7,
   "metadata": {},
   "outputs": [],
   "source": [
    "# Split the cleaned dataset into training and testing sets\n",
    "train_set, test_set = train_test_split(heart_2022_cleaned, test_size=0.2, random_state=42)\n"
   ]
  },
  {
   "cell_type": "code",
   "execution_count": 8,
   "metadata": {},
   "outputs": [
    {
     "data": {
      "text/plain": [
       "(196817, 49205)"
      ]
     },
     "execution_count": 8,
     "metadata": {},
     "output_type": "execute_result"
    }
   ],
   "source": [
    "# Display the size of the training and testing sets\n",
    "len(train_set), len(test_set)"
   ]
  },
  {
   "cell_type": "code",
   "execution_count": 9,
   "metadata": {},
   "outputs": [
    {
     "data": {
      "text/plain": [
       "(          BMI  PhysicalHealth  MentalHealth  SleepTime  HeartDisease_Yes  \\\n",
       " 108769  28.13             0.0           0.0        6.0             False   \n",
       " 240750  25.79             0.0           0.0        7.0             False   \n",
       " 100329  23.03             3.0           0.0        9.0             False   \n",
       " 132628  23.49             4.0           6.0        6.0             False   \n",
       " 72101   29.84             0.0           2.0        7.0             False   \n",
       " \n",
       "         Smoking_Yes  AlcoholDrinking_Yes  Stroke_Yes  DiffWalking_Yes  \\\n",
       " 108769         True                False       False            False   \n",
       " 240750         True                 True       False            False   \n",
       " 100329        False                False       False            False   \n",
       " 132628        False                 True       False            False   \n",
       " 72101         False                 True       False            False   \n",
       " \n",
       "         Sex_Male  ...  Diabetic_Yes  Diabetic_Yes (during pregnancy)  \\\n",
       " 108769      True  ...         False                            False   \n",
       " 240750      True  ...         False                            False   \n",
       " 100329     False  ...          True                            False   \n",
       " 132628      True  ...         False                            False   \n",
       " 72101       True  ...         False                            False   \n",
       " \n",
       "         PhysicalActivity_Yes  GenHealth_Fair  GenHealth_Good  GenHealth_Poor  \\\n",
       " 108769                  True           False            True           False   \n",
       " 240750                  True           False           False           False   \n",
       " 100329                 False           False           False           False   \n",
       " 132628                  True           False            True           False   \n",
       " 72101                   True           False           False           False   \n",
       " \n",
       "         GenHealth_Very good  Asthma_Yes  KidneyDisease_Yes  SkinCancer_Yes  \n",
       " 108769                False       False              False           False  \n",
       " 240750                False       False              False           False  \n",
       " 100329                False       False              False           False  \n",
       " 132628                False       False              False           False  \n",
       " 72101                  True        True              False           False  \n",
       " \n",
       " [5 rows x 36 columns],\n",
       " (196817, 36))"
      ]
     },
     "execution_count": 9,
     "metadata": {},
     "output_type": "execute_result"
    }
   ],
   "source": [
    "# Encode non-numeric columns using one-hot encoding\n",
    "encoded_dataset = pd.get_dummies(train_set, drop_first=True)  # Using drop_first to avoid dummy variable trap\n",
    "\n",
    "# Display the first few rows of the encoded dataset to verify the transformation\n",
    "encoded_dataset.head(), encoded_dataset.shape\n"
   ]
  },
  {
   "cell_type": "code",
   "execution_count": 10,
   "metadata": {},
   "outputs": [
    {
     "data": {
      "text/html": [
       "<div>\n",
       "<style scoped>\n",
       "    .dataframe tbody tr th:only-of-type {\n",
       "        vertical-align: middle;\n",
       "    }\n",
       "\n",
       "    .dataframe tbody tr th {\n",
       "        vertical-align: top;\n",
       "    }\n",
       "\n",
       "    .dataframe thead th {\n",
       "        text-align: right;\n",
       "    }\n",
       "</style>\n",
       "<table border=\"1\" class=\"dataframe\">\n",
       "  <thead>\n",
       "    <tr style=\"text-align: right;\">\n",
       "      <th></th>\n",
       "      <th>BMI</th>\n",
       "      <th>PhysicalHealth</th>\n",
       "      <th>MentalHealth</th>\n",
       "      <th>SleepTime</th>\n",
       "      <th>AgeCategoryOrdinal</th>\n",
       "      <th>HeartDisease_Yes</th>\n",
       "      <th>Smoking_Yes</th>\n",
       "      <th>AlcoholDrinking_Yes</th>\n",
       "      <th>Stroke_Yes</th>\n",
       "      <th>DiffWalking_Yes</th>\n",
       "      <th>...</th>\n",
       "      <th>Diabetic_Yes</th>\n",
       "      <th>Diabetic_Yes (during pregnancy)</th>\n",
       "      <th>PhysicalActivity_Yes</th>\n",
       "      <th>GenHealth_Fair</th>\n",
       "      <th>GenHealth_Good</th>\n",
       "      <th>GenHealth_Poor</th>\n",
       "      <th>GenHealth_Very good</th>\n",
       "      <th>Asthma_Yes</th>\n",
       "      <th>KidneyDisease_Yes</th>\n",
       "      <th>SkinCancer_Yes</th>\n",
       "    </tr>\n",
       "  </thead>\n",
       "  <tbody>\n",
       "    <tr>\n",
       "      <th>108769</th>\n",
       "      <td>28.13</td>\n",
       "      <td>0.0</td>\n",
       "      <td>0.0</td>\n",
       "      <td>6.0</td>\n",
       "      <td>4</td>\n",
       "      <td>False</td>\n",
       "      <td>True</td>\n",
       "      <td>False</td>\n",
       "      <td>False</td>\n",
       "      <td>False</td>\n",
       "      <td>...</td>\n",
       "      <td>False</td>\n",
       "      <td>False</td>\n",
       "      <td>True</td>\n",
       "      <td>False</td>\n",
       "      <td>True</td>\n",
       "      <td>False</td>\n",
       "      <td>False</td>\n",
       "      <td>False</td>\n",
       "      <td>False</td>\n",
       "      <td>False</td>\n",
       "    </tr>\n",
       "    <tr>\n",
       "      <th>240750</th>\n",
       "      <td>25.79</td>\n",
       "      <td>0.0</td>\n",
       "      <td>0.0</td>\n",
       "      <td>7.0</td>\n",
       "      <td>6</td>\n",
       "      <td>False</td>\n",
       "      <td>True</td>\n",
       "      <td>True</td>\n",
       "      <td>False</td>\n",
       "      <td>False</td>\n",
       "      <td>...</td>\n",
       "      <td>False</td>\n",
       "      <td>False</td>\n",
       "      <td>True</td>\n",
       "      <td>False</td>\n",
       "      <td>False</td>\n",
       "      <td>False</td>\n",
       "      <td>False</td>\n",
       "      <td>False</td>\n",
       "      <td>False</td>\n",
       "      <td>False</td>\n",
       "    </tr>\n",
       "    <tr>\n",
       "      <th>100329</th>\n",
       "      <td>23.03</td>\n",
       "      <td>3.0</td>\n",
       "      <td>0.0</td>\n",
       "      <td>9.0</td>\n",
       "      <td>12</td>\n",
       "      <td>False</td>\n",
       "      <td>False</td>\n",
       "      <td>False</td>\n",
       "      <td>False</td>\n",
       "      <td>False</td>\n",
       "      <td>...</td>\n",
       "      <td>True</td>\n",
       "      <td>False</td>\n",
       "      <td>False</td>\n",
       "      <td>False</td>\n",
       "      <td>False</td>\n",
       "      <td>False</td>\n",
       "      <td>False</td>\n",
       "      <td>False</td>\n",
       "      <td>False</td>\n",
       "      <td>False</td>\n",
       "    </tr>\n",
       "    <tr>\n",
       "      <th>132628</th>\n",
       "      <td>23.49</td>\n",
       "      <td>4.0</td>\n",
       "      <td>6.0</td>\n",
       "      <td>6.0</td>\n",
       "      <td>10</td>\n",
       "      <td>False</td>\n",
       "      <td>False</td>\n",
       "      <td>True</td>\n",
       "      <td>False</td>\n",
       "      <td>False</td>\n",
       "      <td>...</td>\n",
       "      <td>False</td>\n",
       "      <td>False</td>\n",
       "      <td>True</td>\n",
       "      <td>False</td>\n",
       "      <td>True</td>\n",
       "      <td>False</td>\n",
       "      <td>False</td>\n",
       "      <td>False</td>\n",
       "      <td>False</td>\n",
       "      <td>False</td>\n",
       "    </tr>\n",
       "    <tr>\n",
       "      <th>72101</th>\n",
       "      <td>29.84</td>\n",
       "      <td>0.0</td>\n",
       "      <td>2.0</td>\n",
       "      <td>7.0</td>\n",
       "      <td>7</td>\n",
       "      <td>False</td>\n",
       "      <td>False</td>\n",
       "      <td>True</td>\n",
       "      <td>False</td>\n",
       "      <td>False</td>\n",
       "      <td>...</td>\n",
       "      <td>False</td>\n",
       "      <td>False</td>\n",
       "      <td>True</td>\n",
       "      <td>False</td>\n",
       "      <td>False</td>\n",
       "      <td>False</td>\n",
       "      <td>True</td>\n",
       "      <td>True</td>\n",
       "      <td>False</td>\n",
       "      <td>False</td>\n",
       "    </tr>\n",
       "  </tbody>\n",
       "</table>\n",
       "<p>5 rows × 25 columns</p>\n",
       "</div>"
      ],
      "text/plain": [
       "          BMI  PhysicalHealth  MentalHealth  SleepTime  AgeCategoryOrdinal  \\\n",
       "108769  28.13             0.0           0.0        6.0                   4   \n",
       "240750  25.79             0.0           0.0        7.0                   6   \n",
       "100329  23.03             3.0           0.0        9.0                  12   \n",
       "132628  23.49             4.0           6.0        6.0                  10   \n",
       "72101   29.84             0.0           2.0        7.0                   7   \n",
       "\n",
       "        HeartDisease_Yes  Smoking_Yes  AlcoholDrinking_Yes  Stroke_Yes  \\\n",
       "108769             False         True                False       False   \n",
       "240750             False         True                 True       False   \n",
       "100329             False        False                False       False   \n",
       "132628             False        False                 True       False   \n",
       "72101              False        False                 True       False   \n",
       "\n",
       "        DiffWalking_Yes  ...  Diabetic_Yes  Diabetic_Yes (during pregnancy)  \\\n",
       "108769            False  ...         False                            False   \n",
       "240750            False  ...         False                            False   \n",
       "100329            False  ...          True                            False   \n",
       "132628            False  ...         False                            False   \n",
       "72101             False  ...         False                            False   \n",
       "\n",
       "        PhysicalActivity_Yes  GenHealth_Fair  GenHealth_Good  GenHealth_Poor  \\\n",
       "108769                  True           False            True           False   \n",
       "240750                  True           False           False           False   \n",
       "100329                 False           False           False           False   \n",
       "132628                  True           False            True           False   \n",
       "72101                   True           False           False           False   \n",
       "\n",
       "        GenHealth_Very good  Asthma_Yes  KidneyDisease_Yes  SkinCancer_Yes  \n",
       "108769                False       False              False           False  \n",
       "240750                False       False              False           False  \n",
       "100329                False       False              False           False  \n",
       "132628                False       False              False           False  \n",
       "72101                  True        True              False           False  \n",
       "\n",
       "[5 rows x 25 columns]"
      ]
     },
     "metadata": {},
     "output_type": "display_data"
    },
    {
     "data": {
      "text/plain": [
       "(196817, 25)"
      ]
     },
     "metadata": {},
     "output_type": "display_data"
    }
   ],
   "source": [
    "# Define the order for age categories based on the dataset's unique values\n",
    "age_category_order = ['18-24', '25-29', '30-34', '35-39', '40-44', '45-49',\n",
    "                      '50-54', '55-59', '60-64', '65-69', '70-74', '75-79', '80 or older']\n",
    "\n",
    "# Map the age categories to ordinal values\n",
    "age_category_mapping = {category: index for index, category in enumerate(age_category_order)}\n",
    "train_set['AgeCategoryOrdinal'] = train_set['AgeCategory'].map(age_category_mapping)\n",
    "\n",
    "# Drop the original 'AgeCategory' column\n",
    "train_set_ordinal = train_set.drop('AgeCategory', axis=1)\n",
    "\n",
    "# Reapply one-hot encoding to the remaining non-numeric columns, excluding 'AgeCategory'\n",
    "encoded_dataset_with_ordinal_age = pd.get_dummies(train_set_ordinal, drop_first=True)\n",
    "\n",
    "# Display the first few rows of the dataset to verify the transformation\n",
    "display(encoded_dataset_with_ordinal_age.head())\n",
    "display(encoded_dataset_with_ordinal_age.shape)"
   ]
  },
  {
   "cell_type": "markdown",
   "metadata": {},
   "source": [
    "# Logistic Regression"
   ]
  },
  {
   "cell_type": "code",
   "execution_count": 11,
   "metadata": {},
   "outputs": [],
   "source": [
    "# separate the features and the target variable\n",
    "X = encoded_dataset_with_ordinal_age.drop('HeartDisease_Yes', axis=1)\n",
    "y = encoded_dataset_with_ordinal_age['HeartDisease_Yes']"
   ]
  },
  {
   "cell_type": "code",
   "execution_count": 12,
   "metadata": {},
   "outputs": [],
   "source": [
    "# Apply the one-hot encoding\n",
    "X_encoded = pd.get_dummies(X, drop_first=True)"
   ]
  },
  {
   "cell_type": "code",
   "execution_count": 13,
   "metadata": {},
   "outputs": [],
   "source": [
    "# split the data into training and testing sets\n",
    "X_train, X_test, y_train, y_test = train_test_split(X_encoded, y, test_size=0.2, random_state=1)"
   ]
  },
  {
   "cell_type": "code",
   "execution_count": 14,
   "metadata": {},
   "outputs": [],
   "source": [
    "# standardize the dataset\n",
    "scaler= StandardScaler()\n",
    "X_train_scaled = scaler.fit_transform(X_train)\n",
    "X_test_scaled = scaler.transform(X_test)"
   ]
  },
  {
   "cell_type": "code",
   "execution_count": 15,
   "metadata": {},
   "outputs": [],
   "source": [
    "# define the logistic regression model\n",
    "logistic_model = LogisticRegression()"
   ]
  },
  {
   "cell_type": "code",
   "execution_count": 16,
   "metadata": {},
   "outputs": [
    {
     "data": {
      "text/html": [
       "<style>#sk-container-id-1 {color: black;}#sk-container-id-1 pre{padding: 0;}#sk-container-id-1 div.sk-toggleable {background-color: white;}#sk-container-id-1 label.sk-toggleable__label {cursor: pointer;display: block;width: 100%;margin-bottom: 0;padding: 0.3em;box-sizing: border-box;text-align: center;}#sk-container-id-1 label.sk-toggleable__label-arrow:before {content: \"▸\";float: left;margin-right: 0.25em;color: #696969;}#sk-container-id-1 label.sk-toggleable__label-arrow:hover:before {color: black;}#sk-container-id-1 div.sk-estimator:hover label.sk-toggleable__label-arrow:before {color: black;}#sk-container-id-1 div.sk-toggleable__content {max-height: 0;max-width: 0;overflow: hidden;text-align: left;background-color: #f0f8ff;}#sk-container-id-1 div.sk-toggleable__content pre {margin: 0.2em;color: black;border-radius: 0.25em;background-color: #f0f8ff;}#sk-container-id-1 input.sk-toggleable__control:checked~div.sk-toggleable__content {max-height: 200px;max-width: 100%;overflow: auto;}#sk-container-id-1 input.sk-toggleable__control:checked~label.sk-toggleable__label-arrow:before {content: \"▾\";}#sk-container-id-1 div.sk-estimator input.sk-toggleable__control:checked~label.sk-toggleable__label {background-color: #d4ebff;}#sk-container-id-1 div.sk-label input.sk-toggleable__control:checked~label.sk-toggleable__label {background-color: #d4ebff;}#sk-container-id-1 input.sk-hidden--visually {border: 0;clip: rect(1px 1px 1px 1px);clip: rect(1px, 1px, 1px, 1px);height: 1px;margin: -1px;overflow: hidden;padding: 0;position: absolute;width: 1px;}#sk-container-id-1 div.sk-estimator {font-family: monospace;background-color: #f0f8ff;border: 1px dotted black;border-radius: 0.25em;box-sizing: border-box;margin-bottom: 0.5em;}#sk-container-id-1 div.sk-estimator:hover {background-color: #d4ebff;}#sk-container-id-1 div.sk-parallel-item::after {content: \"\";width: 100%;border-bottom: 1px solid gray;flex-grow: 1;}#sk-container-id-1 div.sk-label:hover label.sk-toggleable__label {background-color: #d4ebff;}#sk-container-id-1 div.sk-serial::before {content: \"\";position: absolute;border-left: 1px solid gray;box-sizing: border-box;top: 0;bottom: 0;left: 50%;z-index: 0;}#sk-container-id-1 div.sk-serial {display: flex;flex-direction: column;align-items: center;background-color: white;padding-right: 0.2em;padding-left: 0.2em;position: relative;}#sk-container-id-1 div.sk-item {position: relative;z-index: 1;}#sk-container-id-1 div.sk-parallel {display: flex;align-items: stretch;justify-content: center;background-color: white;position: relative;}#sk-container-id-1 div.sk-item::before, #sk-container-id-1 div.sk-parallel-item::before {content: \"\";position: absolute;border-left: 1px solid gray;box-sizing: border-box;top: 0;bottom: 0;left: 50%;z-index: -1;}#sk-container-id-1 div.sk-parallel-item {display: flex;flex-direction: column;z-index: 1;position: relative;background-color: white;}#sk-container-id-1 div.sk-parallel-item:first-child::after {align-self: flex-end;width: 50%;}#sk-container-id-1 div.sk-parallel-item:last-child::after {align-self: flex-start;width: 50%;}#sk-container-id-1 div.sk-parallel-item:only-child::after {width: 0;}#sk-container-id-1 div.sk-dashed-wrapped {border: 1px dashed gray;margin: 0 0.4em 0.5em 0.4em;box-sizing: border-box;padding-bottom: 0.4em;background-color: white;}#sk-container-id-1 div.sk-label label {font-family: monospace;font-weight: bold;display: inline-block;line-height: 1.2em;}#sk-container-id-1 div.sk-label-container {text-align: center;}#sk-container-id-1 div.sk-container {/* jupyter's `normalize.less` sets `[hidden] { display: none; }` but bootstrap.min.css set `[hidden] { display: none !important; }` so we also need the `!important` here to be able to override the default hidden behavior on the sphinx rendered scikit-learn.org. See: https://github.com/scikit-learn/scikit-learn/issues/21755 */display: inline-block !important;position: relative;}#sk-container-id-1 div.sk-text-repr-fallback {display: none;}</style><div id=\"sk-container-id-1\" class=\"sk-top-container\"><div class=\"sk-text-repr-fallback\"><pre>LogisticRegression()</pre><b>In a Jupyter environment, please rerun this cell to show the HTML representation or trust the notebook. <br />On GitHub, the HTML representation is unable to render, please try loading this page with nbviewer.org.</b></div><div class=\"sk-container\" hidden><div class=\"sk-item\"><div class=\"sk-estimator sk-toggleable\"><input class=\"sk-toggleable__control sk-hidden--visually\" id=\"sk-estimator-id-1\" type=\"checkbox\" checked><label for=\"sk-estimator-id-1\" class=\"sk-toggleable__label sk-toggleable__label-arrow\">LogisticRegression</label><div class=\"sk-toggleable__content\"><pre>LogisticRegression()</pre></div></div></div></div></div>"
      ],
      "text/plain": [
       "LogisticRegression()"
      ]
     },
     "execution_count": 16,
     "metadata": {},
     "output_type": "execute_result"
    }
   ],
   "source": [
    "# fit the model\n",
    "logistic_model.fit(X_train_scaled, y_train)"
   ]
  },
  {
   "cell_type": "code",
   "execution_count": 17,
   "metadata": {},
   "outputs": [
    {
     "name": "stdout",
     "output_type": "stream",
     "text": [
      "Training Score: 0.9448851403275899\n"
     ]
    }
   ],
   "source": [
    "# Train a Logistic Regression model and print the model score\n",
    "classifier = LogisticRegression(solver= 'lbfgs', random_state=1)\n",
    "classifier.fit(X_train_scaled, y_train)\n",
    "print(f'Training Score: {classifier.score(X_train_scaled, y_train)}')"
   ]
  },
  {
   "cell_type": "code",
   "execution_count": 18,
   "metadata": {},
   "outputs": [
    {
     "data": {
      "text/html": [
       "<div>\n",
       "<style scoped>\n",
       "    .dataframe tbody tr th:only-of-type {\n",
       "        vertical-align: middle;\n",
       "    }\n",
       "\n",
       "    .dataframe tbody tr th {\n",
       "        vertical-align: top;\n",
       "    }\n",
       "\n",
       "    .dataframe thead th {\n",
       "        text-align: right;\n",
       "    }\n",
       "</style>\n",
       "<table border=\"1\" class=\"dataframe\">\n",
       "  <thead>\n",
       "    <tr style=\"text-align: right;\">\n",
       "      <th></th>\n",
       "      <th>Prediction</th>\n",
       "      <th>Actual</th>\n",
       "    </tr>\n",
       "  </thead>\n",
       "  <tbody>\n",
       "    <tr>\n",
       "      <th>0</th>\n",
       "      <td>False</td>\n",
       "      <td>False</td>\n",
       "    </tr>\n",
       "    <tr>\n",
       "      <th>1</th>\n",
       "      <td>False</td>\n",
       "      <td>False</td>\n",
       "    </tr>\n",
       "    <tr>\n",
       "      <th>2</th>\n",
       "      <td>False</td>\n",
       "      <td>False</td>\n",
       "    </tr>\n",
       "    <tr>\n",
       "      <th>3</th>\n",
       "      <td>False</td>\n",
       "      <td>False</td>\n",
       "    </tr>\n",
       "    <tr>\n",
       "      <th>4</th>\n",
       "      <td>False</td>\n",
       "      <td>False</td>\n",
       "    </tr>\n",
       "  </tbody>\n",
       "</table>\n",
       "</div>"
      ],
      "text/plain": [
       "   Prediction  Actual\n",
       "0       False   False\n",
       "1       False   False\n",
       "2       False   False\n",
       "3       False   False\n",
       "4       False   False"
      ]
     },
     "execution_count": 18,
     "metadata": {},
     "output_type": "execute_result"
    }
   ],
   "source": [
    "# Make and save testing predictions with the saved logistic regression model using the test data\n",
    "predictions = classifier.predict(X_test_scaled)\n",
    "# Review the predictions\n",
    "results = pd.DataFrame({\"Prediction\": predictions, \"Actual\": y_test}).reset_index(drop=True)\n",
    "results.head()"
   ]
  },
  {
   "cell_type": "code",
   "execution_count": 19,
   "metadata": {},
   "outputs": [
    {
     "data": {
      "text/plain": [
       "0.9457626257494157"
      ]
     },
     "execution_count": 19,
     "metadata": {},
     "output_type": "execute_result"
    }
   ],
   "source": [
    "# Calculate the accuracy score by evaluating `y_test` vs. `testing_predictions`.\n",
    "accuracy_score(y_test, predictions)"
   ]
  },
  {
   "cell_type": "code",
   "execution_count": 20,
   "metadata": {},
   "outputs": [
    {
     "name": "stdout",
     "output_type": "stream",
     "text": [
      "Accuracy: 0.9457626257494157\n",
      "Confusion Matrix:\n",
      " [[37129    97]\n",
      " [ 2038   100]]\n"
     ]
    }
   ],
   "source": [
    "# view the confusion matrix\n",
    "predictions = logistic_model.predict(X_test_scaled)\n",
    "print(\"Accuracy:\", accuracy_score(y_test, predictions))\n",
    "print(\"Confusion Matrix:\\n\", confusion_matrix(y_test, predictions))"
   ]
  },
  {
   "cell_type": "code",
   "execution_count": 21,
   "metadata": {},
   "outputs": [
    {
     "name": "stdout",
     "output_type": "stream",
     "text": [
      "False Positive Rate : 97\n",
      "False Negative Rate : 2038\n"
     ]
    }
   ],
   "source": [
    "# view the false positive and false negative rates\n",
    "tn, fp, fn, tp = confusion_matrix(y_test, predictions).ravel()\n",
    "print(f\"False Positive Rate : {fp}\")\n",
    "print(f\"False Negative Rate : {fn}\")\n"
   ]
  },
  {
   "cell_type": "code",
   "execution_count": 22,
   "metadata": {},
   "outputs": [
    {
     "name": "stdout",
     "output_type": "stream",
     "text": [
      "True Positive Rate : 100\n",
      "True Negative Rate : 37129\n"
     ]
    }
   ],
   "source": [
    "# view the true positive and true negative accuracy rates\n",
    "print(f\"True Positive Rate : {tp}\")\n",
    "print(f\"True Negative Rate : {tn}\")"
   ]
  },
  {
   "cell_type": "code",
   "execution_count": 23,
   "metadata": {},
   "outputs": [
    {
     "data": {
      "image/png": "[encoded data removed]",
      "text/plain": [
       "<Figure size 1000x800 with 2 Axes>"
      ]
     },
     "metadata": {},
     "output_type": "display_data"
    }
   ],
   "source": [
    "# View a heatmap of the confusion matrix\n",
    "import seaborn as sns\n",
    "import matplotlib.pyplot as plt\n",
    "from sklearn.metrics import confusion_matrix\n",
    "\n",
    "cm = confusion_matrix(y_test, predictions)\n",
    "\n",
    "plt.figure(figsize=(10,8))\n",
    "sns.heatmap(cm, annot=True, fmt=\"d\", cmap=\"Blues\")\n",
    "plt.title(\"Confusion Matrix\")\n",
    "plt.ylabel('Actual')\n",
    "plt.xlabel('Predicted')\n",
    "plt.show()"
   ]
  },
  {
   "cell_type": "code",
   "execution_count": 24,
   "metadata": {},
   "outputs": [
    {
     "name": "stdout",
     "output_type": "stream",
     "text": [
      "              precision    recall  f1-score   support\n",
      "\n",
      "       False       0.95      1.00      0.97     37226\n",
      "        True       0.51      0.05      0.09      2138\n",
      "\n",
      "    accuracy                           0.95     39364\n",
      "   macro avg       0.73      0.52      0.53     39364\n",
      "weighted avg       0.92      0.95      0.92     39364\n",
      "\n"
     ]
    }
   ],
   "source": [
    "from sklearn.metrics import classification_report\n",
    "print(classification_report(y_test, predictions))"
   ]
  },
  {
   "cell_type": "code",
   "execution_count": 25,
   "metadata": {},
   "outputs": [
    {
     "name": "stdout",
     "output_type": "stream",
     "text": [
      "Accuracy: 0.9457626257494157\n",
      "Precision: 0.5076142131979695\n",
      "Recall: 0.04677268475210477\n",
      "F1 Score: 0.08565310492505354\n"
     ]
    }
   ],
   "source": [
    "# Show the model's accuracy, precision, recall, and F1 score\n",
    "from sklearn.metrics import precision_score, recall_score, f1_score\n",
    "print(f'Accuracy: {accuracy_score(y_test, predictions)}')\n",
    "print(f'Precision: {precision_score(y_test, predictions)}')\n",
    "print(f'Recall: {recall_score(y_test, predictions)}')\n",
    "print(f'F1 Score: {f1_score(y_test, predictions)}')"
   ]
  },
  {
   "cell_type": "code",
   "execution_count": 26,
   "metadata": {},
   "outputs": [
    {
     "name": "stdout",
     "output_type": "stream",
     "text": [
      "[ 0.02724246  0.01962829  0.04737239 -0.03835238  0.86853223  0.21363977\n",
      " -0.10615006  0.21503344  0.06450917  0.4013917   0.04799325  0.10141117\n",
      "  0.11734155  0.02159779  0.15450022  0.03411512 -0.01807858  0.48279903\n",
      "  0.46443946  0.34383582  0.23276782  0.06038829  0.07609186 -0.00754375]\n"
     ]
    }
   ],
   "source": [
    "# view the feature weights\n",
    "feature_importance = classifier.coef_[0]\n",
    "print(feature_importance)"
   ]
  },
  {
   "cell_type": "code",
   "execution_count": 27,
   "metadata": {},
   "outputs": [
    {
     "name": "stdout",
     "output_type": "stream",
     "text": [
      "Largest weights for true positive predictions:\n",
      "(0.4827990261808746, 'GenHealth_Fair')\n",
      "(0.8685322252444635, 'AgeCategoryOrdinal')\n",
      "\n",
      "Smallest weights for true positive predictions:\n",
      "(-0.10615006226024463, 'AlcoholDrinking_Yes')\n",
      "(-0.038352380292488254, 'SleepTime')\n"
     ]
    }
   ],
   "source": [
    "# Define the feature names\n",
    "feature_names = X.columns.tolist()\n",
    "\n",
    "# View the two largest and two smallest feature weights for true positive predictions\n",
    "weights = logistic_model.coef_[0]\n",
    "pairs = list(zip(weights, feature_names))\n",
    "pairs.sort(key=lambda x: x[0])\n",
    "print(\"Largest weights for true positive predictions:\")\n",
    "for pair in pairs[-2:]:\n",
    "    print(pair)\n",
    "print(\"\\nSmallest weights for true positive predictions:\")\n",
    "for pair in pairs[:2]:\n",
    "    print(pair)"
   ]
  },
  {
   "cell_type": "markdown",
   "metadata": {},
   "source": [
    "# Model Analysis\n"
   ]
  }
 ],
 "metadata": {
  "kernelspec": {
   "display_name": "Python 3",
   "language": "python",
   "name": "python3"
  },
  "language_info": {
   "codemirror_mode": {
    "name": "ipython",
    "version": 3
   },
   "file_extension": ".py",
   "mimetype": "text/x-python",
   "name": "python",
   "nbconvert_exporter": "python",
   "pygments_lexer": "ipython3",
   "version": "3.10.13"
  }
 },
 "nbformat": 4,
 "nbformat_minor": 2
}
