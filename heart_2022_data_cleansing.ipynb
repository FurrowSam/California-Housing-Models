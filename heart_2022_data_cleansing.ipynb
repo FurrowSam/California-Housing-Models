{
 "cells": [
  {
   "cell_type": "code",
   "execution_count": 1044,
   "metadata": {},
   "outputs": [],
   "source": [
    "# Import dependencies for data cleansing\n",
    "import pandas as pd\n",
    "from sklearn.model_selection import train_test_split\n"
   ]
  },
  {
   "cell_type": "markdown",
   "metadata": {},
   "source": [
    "# Import Data"
   ]
  },
  {
   "cell_type": "code",
   "execution_count": 1045,
   "metadata": {},
   "outputs": [
    {
     "data": {
      "text/html": [
       "<div>\n",
       "<style scoped>\n",
       "    .dataframe tbody tr th:only-of-type {\n",
       "        vertical-align: middle;\n",
       "    }\n",
       "\n",
       "    .dataframe tbody tr th {\n",
       "        vertical-align: top;\n",
       "    }\n",
       "\n",
       "    .dataframe thead th {\n",
       "        text-align: right;\n",
       "    }\n",
       "</style>\n",
       "<table border=\"1\" class=\"dataframe\">\n",
       "  <thead>\n",
       "    <tr style=\"text-align: right;\">\n",
       "      <th></th>\n",
       "      <th>State</th>\n",
       "      <th>Sex</th>\n",
       "      <th>GeneralHealth</th>\n",
       "      <th>PhysicalHealthDays</th>\n",
       "      <th>MentalHealthDays</th>\n",
       "      <th>LastCheckupTime</th>\n",
       "      <th>PhysicalActivities</th>\n",
       "      <th>SleepHours</th>\n",
       "      <th>RemovedTeeth</th>\n",
       "      <th>HadHeartAttack</th>\n",
       "      <th>...</th>\n",
       "      <th>HeightInMeters</th>\n",
       "      <th>WeightInKilograms</th>\n",
       "      <th>BMI</th>\n",
       "      <th>AlcoholDrinkers</th>\n",
       "      <th>HIVTesting</th>\n",
       "      <th>FluVaxLast12</th>\n",
       "      <th>PneumoVaxEver</th>\n",
       "      <th>TetanusLast10Tdap</th>\n",
       "      <th>HighRiskLastYear</th>\n",
       "      <th>CovidPos</th>\n",
       "    </tr>\n",
       "  </thead>\n",
       "  <tbody>\n",
       "    <tr>\n",
       "      <th>0</th>\n",
       "      <td>Alabama</td>\n",
       "      <td>Female</td>\n",
       "      <td>Very good</td>\n",
       "      <td>4.0</td>\n",
       "      <td>0.0</td>\n",
       "      <td>Within past year (anytime less than 12 months ...</td>\n",
       "      <td>Yes</td>\n",
       "      <td>9.0</td>\n",
       "      <td>None of them</td>\n",
       "      <td>No</td>\n",
       "      <td>...</td>\n",
       "      <td>1.60</td>\n",
       "      <td>71.67</td>\n",
       "      <td>27.99</td>\n",
       "      <td>No</td>\n",
       "      <td>No</td>\n",
       "      <td>Yes</td>\n",
       "      <td>Yes</td>\n",
       "      <td>Yes, received Tdap</td>\n",
       "      <td>No</td>\n",
       "      <td>No</td>\n",
       "    </tr>\n",
       "    <tr>\n",
       "      <th>1</th>\n",
       "      <td>Alabama</td>\n",
       "      <td>Male</td>\n",
       "      <td>Very good</td>\n",
       "      <td>0.0</td>\n",
       "      <td>0.0</td>\n",
       "      <td>Within past year (anytime less than 12 months ...</td>\n",
       "      <td>Yes</td>\n",
       "      <td>6.0</td>\n",
       "      <td>None of them</td>\n",
       "      <td>No</td>\n",
       "      <td>...</td>\n",
       "      <td>1.78</td>\n",
       "      <td>95.25</td>\n",
       "      <td>30.13</td>\n",
       "      <td>No</td>\n",
       "      <td>No</td>\n",
       "      <td>Yes</td>\n",
       "      <td>Yes</td>\n",
       "      <td>Yes, received tetanus shot but not sure what type</td>\n",
       "      <td>No</td>\n",
       "      <td>No</td>\n",
       "    </tr>\n",
       "    <tr>\n",
       "      <th>2</th>\n",
       "      <td>Alabama</td>\n",
       "      <td>Male</td>\n",
       "      <td>Very good</td>\n",
       "      <td>0.0</td>\n",
       "      <td>0.0</td>\n",
       "      <td>Within past year (anytime less than 12 months ...</td>\n",
       "      <td>No</td>\n",
       "      <td>8.0</td>\n",
       "      <td>6 or more, but not all</td>\n",
       "      <td>No</td>\n",
       "      <td>...</td>\n",
       "      <td>1.85</td>\n",
       "      <td>108.86</td>\n",
       "      <td>31.66</td>\n",
       "      <td>Yes</td>\n",
       "      <td>No</td>\n",
       "      <td>No</td>\n",
       "      <td>Yes</td>\n",
       "      <td>No, did not receive any tetanus shot in the pa...</td>\n",
       "      <td>No</td>\n",
       "      <td>Yes</td>\n",
       "    </tr>\n",
       "    <tr>\n",
       "      <th>3</th>\n",
       "      <td>Alabama</td>\n",
       "      <td>Female</td>\n",
       "      <td>Fair</td>\n",
       "      <td>5.0</td>\n",
       "      <td>0.0</td>\n",
       "      <td>Within past year (anytime less than 12 months ...</td>\n",
       "      <td>Yes</td>\n",
       "      <td>9.0</td>\n",
       "      <td>None of them</td>\n",
       "      <td>No</td>\n",
       "      <td>...</td>\n",
       "      <td>1.70</td>\n",
       "      <td>90.72</td>\n",
       "      <td>31.32</td>\n",
       "      <td>No</td>\n",
       "      <td>No</td>\n",
       "      <td>Yes</td>\n",
       "      <td>Yes</td>\n",
       "      <td>No, did not receive any tetanus shot in the pa...</td>\n",
       "      <td>No</td>\n",
       "      <td>Yes</td>\n",
       "    </tr>\n",
       "    <tr>\n",
       "      <th>4</th>\n",
       "      <td>Alabama</td>\n",
       "      <td>Female</td>\n",
       "      <td>Good</td>\n",
       "      <td>3.0</td>\n",
       "      <td>15.0</td>\n",
       "      <td>Within past year (anytime less than 12 months ...</td>\n",
       "      <td>Yes</td>\n",
       "      <td>5.0</td>\n",
       "      <td>1 to 5</td>\n",
       "      <td>No</td>\n",
       "      <td>...</td>\n",
       "      <td>1.55</td>\n",
       "      <td>79.38</td>\n",
       "      <td>33.07</td>\n",
       "      <td>No</td>\n",
       "      <td>No</td>\n",
       "      <td>Yes</td>\n",
       "      <td>Yes</td>\n",
       "      <td>No, did not receive any tetanus shot in the pa...</td>\n",
       "      <td>No</td>\n",
       "      <td>No</td>\n",
       "    </tr>\n",
       "  </tbody>\n",
       "</table>\n",
       "<p>5 rows × 40 columns</p>\n",
       "</div>"
      ],
      "text/plain": [
       "     State     Sex GeneralHealth  PhysicalHealthDays  MentalHealthDays  \\\n",
       "0  Alabama  Female     Very good                 4.0               0.0   \n",
       "1  Alabama    Male     Very good                 0.0               0.0   \n",
       "2  Alabama    Male     Very good                 0.0               0.0   \n",
       "3  Alabama  Female          Fair                 5.0               0.0   \n",
       "4  Alabama  Female          Good                 3.0              15.0   \n",
       "\n",
       "                                     LastCheckupTime PhysicalActivities  \\\n",
       "0  Within past year (anytime less than 12 months ...                Yes   \n",
       "1  Within past year (anytime less than 12 months ...                Yes   \n",
       "2  Within past year (anytime less than 12 months ...                 No   \n",
       "3  Within past year (anytime less than 12 months ...                Yes   \n",
       "4  Within past year (anytime less than 12 months ...                Yes   \n",
       "\n",
       "   SleepHours            RemovedTeeth HadHeartAttack  ... HeightInMeters  \\\n",
       "0         9.0            None of them             No  ...           1.60   \n",
       "1         6.0            None of them             No  ...           1.78   \n",
       "2         8.0  6 or more, but not all             No  ...           1.85   \n",
       "3         9.0            None of them             No  ...           1.70   \n",
       "4         5.0                  1 to 5             No  ...           1.55   \n",
       "\n",
       "  WeightInKilograms    BMI AlcoholDrinkers HIVTesting FluVaxLast12  \\\n",
       "0             71.67  27.99              No         No          Yes   \n",
       "1             95.25  30.13              No         No          Yes   \n",
       "2            108.86  31.66             Yes         No           No   \n",
       "3             90.72  31.32              No         No          Yes   \n",
       "4             79.38  33.07              No         No          Yes   \n",
       "\n",
       "  PneumoVaxEver                                  TetanusLast10Tdap  \\\n",
       "0           Yes                                 Yes, received Tdap   \n",
       "1           Yes  Yes, received tetanus shot but not sure what type   \n",
       "2           Yes  No, did not receive any tetanus shot in the pa...   \n",
       "3           Yes  No, did not receive any tetanus shot in the pa...   \n",
       "4           Yes  No, did not receive any tetanus shot in the pa...   \n",
       "\n",
       "  HighRiskLastYear CovidPos  \n",
       "0               No       No  \n",
       "1               No       No  \n",
       "2               No      Yes  \n",
       "3               No      Yes  \n",
       "4               No       No  \n",
       "\n",
       "[5 rows x 40 columns]"
      ]
     },
     "execution_count": 1045,
     "metadata": {},
     "output_type": "execute_result"
    }
   ],
   "source": [
    "#Import the heart_2022_no_nans file\n",
    "data_2022 = pd.read_csv('heart_2022_no_nans.csv')\n",
    "# Display the first 5 rows of the dataframe\n",
    "data_2022.head()"
   ]
  },
  {
   "cell_type": "code",
   "execution_count": 1046,
   "metadata": {},
   "outputs": [
    {
     "data": {
      "text/html": [
       "<div>\n",
       "<style scoped>\n",
       "    .dataframe tbody tr th:only-of-type {\n",
       "        vertical-align: middle;\n",
       "    }\n",
       "\n",
       "    .dataframe tbody tr th {\n",
       "        vertical-align: top;\n",
       "    }\n",
       "\n",
       "    .dataframe thead th {\n",
       "        text-align: right;\n",
       "    }\n",
       "</style>\n",
       "<table border=\"1\" class=\"dataframe\">\n",
       "  <thead>\n",
       "    <tr style=\"text-align: right;\">\n",
       "      <th></th>\n",
       "      <th>HeartDisease</th>\n",
       "      <th>BMI</th>\n",
       "      <th>Smoking</th>\n",
       "      <th>AlcoholDrinking</th>\n",
       "      <th>Stroke</th>\n",
       "      <th>PhysicalHealth</th>\n",
       "      <th>MentalHealth</th>\n",
       "      <th>DiffWalking</th>\n",
       "      <th>Sex</th>\n",
       "      <th>AgeCategory</th>\n",
       "      <th>Race</th>\n",
       "      <th>Diabetic</th>\n",
       "      <th>PhysicalActivity</th>\n",
       "      <th>GenHealth</th>\n",
       "      <th>SleepTime</th>\n",
       "      <th>Asthma</th>\n",
       "      <th>KidneyDisease</th>\n",
       "      <th>SkinCancer</th>\n",
       "    </tr>\n",
       "  </thead>\n",
       "  <tbody>\n",
       "    <tr>\n",
       "      <th>0</th>\n",
       "      <td>No</td>\n",
       "      <td>16.60</td>\n",
       "      <td>Yes</td>\n",
       "      <td>No</td>\n",
       "      <td>No</td>\n",
       "      <td>3.0</td>\n",
       "      <td>30.0</td>\n",
       "      <td>No</td>\n",
       "      <td>Female</td>\n",
       "      <td>55-59</td>\n",
       "      <td>White</td>\n",
       "      <td>Yes</td>\n",
       "      <td>Yes</td>\n",
       "      <td>Very good</td>\n",
       "      <td>5.0</td>\n",
       "      <td>Yes</td>\n",
       "      <td>No</td>\n",
       "      <td>Yes</td>\n",
       "    </tr>\n",
       "    <tr>\n",
       "      <th>1</th>\n",
       "      <td>No</td>\n",
       "      <td>20.34</td>\n",
       "      <td>No</td>\n",
       "      <td>No</td>\n",
       "      <td>Yes</td>\n",
       "      <td>0.0</td>\n",
       "      <td>0.0</td>\n",
       "      <td>No</td>\n",
       "      <td>Female</td>\n",
       "      <td>80 or older</td>\n",
       "      <td>White</td>\n",
       "      <td>No</td>\n",
       "      <td>Yes</td>\n",
       "      <td>Very good</td>\n",
       "      <td>7.0</td>\n",
       "      <td>No</td>\n",
       "      <td>No</td>\n",
       "      <td>No</td>\n",
       "    </tr>\n",
       "    <tr>\n",
       "      <th>2</th>\n",
       "      <td>No</td>\n",
       "      <td>26.58</td>\n",
       "      <td>Yes</td>\n",
       "      <td>No</td>\n",
       "      <td>No</td>\n",
       "      <td>20.0</td>\n",
       "      <td>30.0</td>\n",
       "      <td>No</td>\n",
       "      <td>Male</td>\n",
       "      <td>65-69</td>\n",
       "      <td>White</td>\n",
       "      <td>Yes</td>\n",
       "      <td>Yes</td>\n",
       "      <td>Fair</td>\n",
       "      <td>8.0</td>\n",
       "      <td>Yes</td>\n",
       "      <td>No</td>\n",
       "      <td>No</td>\n",
       "    </tr>\n",
       "    <tr>\n",
       "      <th>3</th>\n",
       "      <td>No</td>\n",
       "      <td>24.21</td>\n",
       "      <td>No</td>\n",
       "      <td>No</td>\n",
       "      <td>No</td>\n",
       "      <td>0.0</td>\n",
       "      <td>0.0</td>\n",
       "      <td>No</td>\n",
       "      <td>Female</td>\n",
       "      <td>75-79</td>\n",
       "      <td>White</td>\n",
       "      <td>No</td>\n",
       "      <td>No</td>\n",
       "      <td>Good</td>\n",
       "      <td>6.0</td>\n",
       "      <td>No</td>\n",
       "      <td>No</td>\n",
       "      <td>Yes</td>\n",
       "    </tr>\n",
       "    <tr>\n",
       "      <th>4</th>\n",
       "      <td>No</td>\n",
       "      <td>23.71</td>\n",
       "      <td>No</td>\n",
       "      <td>No</td>\n",
       "      <td>No</td>\n",
       "      <td>28.0</td>\n",
       "      <td>0.0</td>\n",
       "      <td>Yes</td>\n",
       "      <td>Female</td>\n",
       "      <td>40-44</td>\n",
       "      <td>White</td>\n",
       "      <td>No</td>\n",
       "      <td>Yes</td>\n",
       "      <td>Very good</td>\n",
       "      <td>8.0</td>\n",
       "      <td>No</td>\n",
       "      <td>No</td>\n",
       "      <td>No</td>\n",
       "    </tr>\n",
       "  </tbody>\n",
       "</table>\n",
       "</div>"
      ],
      "text/plain": [
       "  HeartDisease    BMI Smoking AlcoholDrinking Stroke  PhysicalHealth  \\\n",
       "0           No  16.60     Yes              No     No             3.0   \n",
       "1           No  20.34      No              No    Yes             0.0   \n",
       "2           No  26.58     Yes              No     No            20.0   \n",
       "3           No  24.21      No              No     No             0.0   \n",
       "4           No  23.71      No              No     No            28.0   \n",
       "\n",
       "   MentalHealth DiffWalking     Sex  AgeCategory   Race Diabetic  \\\n",
       "0          30.0          No  Female        55-59  White      Yes   \n",
       "1           0.0          No  Female  80 or older  White       No   \n",
       "2          30.0          No    Male        65-69  White      Yes   \n",
       "3           0.0          No  Female        75-79  White       No   \n",
       "4           0.0         Yes  Female        40-44  White       No   \n",
       "\n",
       "  PhysicalActivity  GenHealth  SleepTime Asthma KidneyDisease SkinCancer  \n",
       "0              Yes  Very good        5.0    Yes            No        Yes  \n",
       "1              Yes  Very good        7.0     No            No         No  \n",
       "2              Yes       Fair        8.0    Yes            No         No  \n",
       "3               No       Good        6.0     No            No        Yes  \n",
       "4              Yes  Very good        8.0     No            No         No  "
      ]
     },
     "execution_count": 1046,
     "metadata": {},
     "output_type": "execute_result"
    }
   ],
   "source": [
    "#Import the heart_2020_cleaned.csv file\n",
    "heart_2020_cleaned = pd.read_csv('heart_2020_cleaned.csv')\n",
    "# Display the first 5 rows of the dataframe\n",
    "heart_2020_cleaned.head()"
   ]
  },
  {
   "cell_type": "code",
   "execution_count": 1047,
   "metadata": {},
   "outputs": [
    {
     "data": {
      "text/plain": [
       "State                         object\n",
       "Sex                           object\n",
       "GeneralHealth                 object\n",
       "PhysicalHealthDays           float64\n",
       "MentalHealthDays             float64\n",
       "LastCheckupTime               object\n",
       "PhysicalActivities            object\n",
       "SleepHours                   float64\n",
       "RemovedTeeth                  object\n",
       "HadHeartAttack                object\n",
       "HadAngina                     object\n",
       "HadStroke                     object\n",
       "HadAsthma                     object\n",
       "HadSkinCancer                 object\n",
       "HadCOPD                       object\n",
       "HadDepressiveDisorder         object\n",
       "HadKidneyDisease              object\n",
       "HadArthritis                  object\n",
       "HadDiabetes                   object\n",
       "DeafOrHardOfHearing           object\n",
       "BlindOrVisionDifficulty       object\n",
       "DifficultyConcentrating       object\n",
       "DifficultyWalking             object\n",
       "DifficultyDressingBathing     object\n",
       "DifficultyErrands             object\n",
       "SmokerStatus                  object\n",
       "ECigaretteUsage               object\n",
       "ChestScan                     object\n",
       "RaceEthnicityCategory         object\n",
       "AgeCategory                   object\n",
       "HeightInMeters               float64\n",
       "WeightInKilograms            float64\n",
       "BMI                          float64\n",
       "AlcoholDrinkers               object\n",
       "HIVTesting                    object\n",
       "FluVaxLast12                  object\n",
       "PneumoVaxEver                 object\n",
       "TetanusLast10Tdap             object\n",
       "HighRiskLastYear              object\n",
       "CovidPos                      object\n",
       "dtype: object"
      ]
     },
     "execution_count": 1047,
     "metadata": {},
     "output_type": "execute_result"
    }
   ],
   "source": [
    "# Display all columns and data types for the 2022 data\n",
    "data_2022.dtypes\n"
   ]
  },
  {
   "cell_type": "code",
   "execution_count": 1048,
   "metadata": {},
   "outputs": [
    {
     "data": {
      "text/plain": [
       "HeartDisease         object\n",
       "BMI                 float64\n",
       "Smoking              object\n",
       "AlcoholDrinking      object\n",
       "Stroke               object\n",
       "PhysicalHealth      float64\n",
       "MentalHealth        float64\n",
       "DiffWalking          object\n",
       "Sex                  object\n",
       "AgeCategory          object\n",
       "Race                 object\n",
       "Diabetic             object\n",
       "PhysicalActivity     object\n",
       "GenHealth            object\n",
       "SleepTime           float64\n",
       "Asthma               object\n",
       "KidneyDisease        object\n",
       "SkinCancer           object\n",
       "dtype: object"
      ]
     },
     "execution_count": 1048,
     "metadata": {},
     "output_type": "execute_result"
    }
   ],
   "source": [
    "# Display all columns and data types for the 2020 data\n",
    "heart_2020_cleaned.dtypes"
   ]
  },
  {
   "cell_type": "markdown",
   "metadata": {},
   "source": [
    "# Renaming Columns and Selecting Columns"
   ]
  },
  {
   "cell_type": "code",
   "execution_count": 1049,
   "metadata": {},
   "outputs": [],
   "source": [
    "data_2022.rename(columns={\n",
    "    'PhysicalHealthDays': 'PhysicalHealth',\n",
    "    'MentalHealthDays': 'MentalHealth',\n",
    "    'SleepHours': 'SleepTime',\n",
    "    'HadHeartAttack': 'HeartDisease',\n",
    "    'PhysicalActivities': 'PhysicalActivity',\n",
    "    'AlcoholDrinkers': 'AlcoholDrinking',\n",
    "    'SmokerStatus': 'Smoking',  # Assuming this matches the Smoking column in the 2020 data\n",
    "    'HadStroke': 'Stroke',\n",
    "    'DifficultyWalking': 'DiffWalking',\n",
    "    'HadKidneyDisease': 'KidneyDisease',\n",
    "    'HadSkinCancer': 'SkinCancer',\n",
    "    'HadAsthma': 'Asthma',\n",
    "    'RaceEthnicityCategory': 'Race',  # Assuming this matches the Race column in the 2020 data\n",
    "    'HadDiabetes': 'Diabetic',  # Assuming this matches the Diabetic status in the 2020 data\n",
    "    'GeneralHealth': 'GenHealth'  # Assuming this matches the HealthStatus column in the 2020 data\n",
    "    # Further mappings might be needed based on the specific columns used in your model\n",
    "}, inplace=True)\n",
    "\n",
    "\n",
    "\n"
   ]
  },
  {
   "cell_type": "markdown",
   "metadata": {},
   "source": [
    "# Final Selection of Columns"
   ]
  },
  {
   "cell_type": "code",
   "execution_count": 1050,
   "metadata": {},
   "outputs": [],
   "source": [
    "columns_needed = ['HeartDisease', 'BMI', 'Smoking', 'AlcoholDrinking', 'Stroke', 'PhysicalHealth', 'MentalHealth', 'DiffWalking', 'Sex', 'AgeCategory', 'Race', 'Diabetic', 'PhysicalActivity', 'GenHealth', 'SleepTime', 'Asthma', 'KidneyDisease', 'SkinCancer']\n",
    "data_2022_final = data_2022[columns_needed]\n"
   ]
  },
  {
   "cell_type": "code",
   "execution_count": 1051,
   "metadata": {},
   "outputs": [
    {
     "data": {
      "text/html": [
       "<div>\n",
       "<style scoped>\n",
       "    .dataframe tbody tr th:only-of-type {\n",
       "        vertical-align: middle;\n",
       "    }\n",
       "\n",
       "    .dataframe tbody tr th {\n",
       "        vertical-align: top;\n",
       "    }\n",
       "\n",
       "    .dataframe thead th {\n",
       "        text-align: right;\n",
       "    }\n",
       "</style>\n",
       "<table border=\"1\" class=\"dataframe\">\n",
       "  <thead>\n",
       "    <tr style=\"text-align: right;\">\n",
       "      <th></th>\n",
       "      <th>HeartDisease</th>\n",
       "      <th>BMI</th>\n",
       "      <th>Smoking</th>\n",
       "      <th>AlcoholDrinking</th>\n",
       "      <th>Stroke</th>\n",
       "      <th>PhysicalHealth</th>\n",
       "      <th>MentalHealth</th>\n",
       "      <th>DiffWalking</th>\n",
       "      <th>Sex</th>\n",
       "      <th>AgeCategory</th>\n",
       "      <th>Race</th>\n",
       "      <th>Diabetic</th>\n",
       "      <th>PhysicalActivity</th>\n",
       "      <th>GenHealth</th>\n",
       "      <th>SleepTime</th>\n",
       "      <th>Asthma</th>\n",
       "      <th>KidneyDisease</th>\n",
       "      <th>SkinCancer</th>\n",
       "    </tr>\n",
       "  </thead>\n",
       "  <tbody>\n",
       "    <tr>\n",
       "      <th>0</th>\n",
       "      <td>No</td>\n",
       "      <td>27.99</td>\n",
       "      <td>Former smoker</td>\n",
       "      <td>No</td>\n",
       "      <td>No</td>\n",
       "      <td>4.0</td>\n",
       "      <td>0.0</td>\n",
       "      <td>No</td>\n",
       "      <td>Female</td>\n",
       "      <td>Age 65 to 69</td>\n",
       "      <td>White only, Non-Hispanic</td>\n",
       "      <td>No</td>\n",
       "      <td>Yes</td>\n",
       "      <td>Very good</td>\n",
       "      <td>9.0</td>\n",
       "      <td>No</td>\n",
       "      <td>No</td>\n",
       "      <td>No</td>\n",
       "    </tr>\n",
       "    <tr>\n",
       "      <th>1</th>\n",
       "      <td>No</td>\n",
       "      <td>30.13</td>\n",
       "      <td>Former smoker</td>\n",
       "      <td>No</td>\n",
       "      <td>No</td>\n",
       "      <td>0.0</td>\n",
       "      <td>0.0</td>\n",
       "      <td>No</td>\n",
       "      <td>Male</td>\n",
       "      <td>Age 70 to 74</td>\n",
       "      <td>White only, Non-Hispanic</td>\n",
       "      <td>Yes</td>\n",
       "      <td>Yes</td>\n",
       "      <td>Very good</td>\n",
       "      <td>6.0</td>\n",
       "      <td>No</td>\n",
       "      <td>No</td>\n",
       "      <td>No</td>\n",
       "    </tr>\n",
       "    <tr>\n",
       "      <th>2</th>\n",
       "      <td>No</td>\n",
       "      <td>31.66</td>\n",
       "      <td>Former smoker</td>\n",
       "      <td>Yes</td>\n",
       "      <td>No</td>\n",
       "      <td>0.0</td>\n",
       "      <td>0.0</td>\n",
       "      <td>Yes</td>\n",
       "      <td>Male</td>\n",
       "      <td>Age 75 to 79</td>\n",
       "      <td>White only, Non-Hispanic</td>\n",
       "      <td>No</td>\n",
       "      <td>No</td>\n",
       "      <td>Very good</td>\n",
       "      <td>8.0</td>\n",
       "      <td>No</td>\n",
       "      <td>No</td>\n",
       "      <td>No</td>\n",
       "    </tr>\n",
       "    <tr>\n",
       "      <th>3</th>\n",
       "      <td>No</td>\n",
       "      <td>31.32</td>\n",
       "      <td>Never smoked</td>\n",
       "      <td>No</td>\n",
       "      <td>No</td>\n",
       "      <td>5.0</td>\n",
       "      <td>0.0</td>\n",
       "      <td>Yes</td>\n",
       "      <td>Female</td>\n",
       "      <td>Age 80 or older</td>\n",
       "      <td>White only, Non-Hispanic</td>\n",
       "      <td>No</td>\n",
       "      <td>Yes</td>\n",
       "      <td>Fair</td>\n",
       "      <td>9.0</td>\n",
       "      <td>No</td>\n",
       "      <td>No</td>\n",
       "      <td>Yes</td>\n",
       "    </tr>\n",
       "    <tr>\n",
       "      <th>4</th>\n",
       "      <td>No</td>\n",
       "      <td>33.07</td>\n",
       "      <td>Never smoked</td>\n",
       "      <td>No</td>\n",
       "      <td>No</td>\n",
       "      <td>3.0</td>\n",
       "      <td>15.0</td>\n",
       "      <td>No</td>\n",
       "      <td>Female</td>\n",
       "      <td>Age 80 or older</td>\n",
       "      <td>White only, Non-Hispanic</td>\n",
       "      <td>No</td>\n",
       "      <td>Yes</td>\n",
       "      <td>Good</td>\n",
       "      <td>5.0</td>\n",
       "      <td>No</td>\n",
       "      <td>No</td>\n",
       "      <td>No</td>\n",
       "    </tr>\n",
       "  </tbody>\n",
       "</table>\n",
       "</div>"
      ],
      "text/plain": [
       "  HeartDisease    BMI        Smoking AlcoholDrinking Stroke  PhysicalHealth  \\\n",
       "0           No  27.99  Former smoker              No     No             4.0   \n",
       "1           No  30.13  Former smoker              No     No             0.0   \n",
       "2           No  31.66  Former smoker             Yes     No             0.0   \n",
       "3           No  31.32   Never smoked              No     No             5.0   \n",
       "4           No  33.07   Never smoked              No     No             3.0   \n",
       "\n",
       "   MentalHealth DiffWalking     Sex      AgeCategory  \\\n",
       "0           0.0          No  Female     Age 65 to 69   \n",
       "1           0.0          No    Male     Age 70 to 74   \n",
       "2           0.0         Yes    Male     Age 75 to 79   \n",
       "3           0.0         Yes  Female  Age 80 or older   \n",
       "4          15.0          No  Female  Age 80 or older   \n",
       "\n",
       "                       Race Diabetic PhysicalActivity  GenHealth  SleepTime  \\\n",
       "0  White only, Non-Hispanic       No              Yes  Very good        9.0   \n",
       "1  White only, Non-Hispanic      Yes              Yes  Very good        6.0   \n",
       "2  White only, Non-Hispanic       No               No  Very good        8.0   \n",
       "3  White only, Non-Hispanic       No              Yes       Fair        9.0   \n",
       "4  White only, Non-Hispanic       No              Yes       Good        5.0   \n",
       "\n",
       "  Asthma KidneyDisease SkinCancer  \n",
       "0     No            No         No  \n",
       "1     No            No         No  \n",
       "2     No            No         No  \n",
       "3     No            No        Yes  \n",
       "4     No            No         No  "
      ]
     },
     "execution_count": 1051,
     "metadata": {},
     "output_type": "execute_result"
    }
   ],
   "source": [
    "# Display the first 5 rows of the dataframe\n",
    "data_2022_final.head()"
   ]
  },
  {
   "cell_type": "markdown",
   "metadata": {},
   "source": [
    "# HeartDisease"
   ]
  },
  {
   "cell_type": "code",
   "execution_count": 1052,
   "metadata": {},
   "outputs": [
    {
     "name": "stdout",
     "output_type": "stream",
     "text": [
      "HeartDisease\n",
      "No     292422\n",
      "Yes     27373\n",
      "Name: count, dtype: int64\n",
      "HeartDisease\n",
      "No     232587\n",
      "Yes     13435\n",
      "Name: count, dtype: int64\n"
     ]
    }
   ],
   "source": [
    "# Displaying the value counts for the HeartDisease column for 2020 and 2022 data\n",
    "print(heart_2020_cleaned['HeartDisease'].value_counts())\n",
    "print(data_2022_final['HeartDisease'].value_counts())"
   ]
  },
  {
   "cell_type": "markdown",
   "metadata": {},
   "source": [
    "# BMI"
   ]
  },
  {
   "cell_type": "code",
   "execution_count": 1053,
   "metadata": {},
   "outputs": [
    {
     "name": "stdout",
     "output_type": "stream",
     "text": [
      "BMI\n",
      "26.63    3762\n",
      "27.46    2767\n",
      "27.44    2723\n",
      "24.41    2696\n",
      "27.12    2525\n",
      "         ... \n",
      "59.85       1\n",
      "50.59       1\n",
      "92.53       1\n",
      "62.95       1\n",
      "46.56       1\n",
      "Name: count, Length: 3604, dtype: int64\n",
      "BMI\n",
      "26.63    2727\n",
      "27.46    2040\n",
      "27.44    1964\n",
      "24.41    1922\n",
      "27.12    1893\n",
      "         ... \n",
      "41.65       1\n",
      "33.24       1\n",
      "25.57       1\n",
      "13.64       1\n",
      "45.28       1\n",
      "Name: count, Length: 3514, dtype: int64\n"
     ]
    }
   ],
   "source": [
    "# Displaying the value counts for the BMI column for 2020 and 2022 data\n",
    "print(heart_2020_cleaned['BMI'].value_counts())\n",
    "print(data_2022_final['BMI'].value_counts())\n"
   ]
  },
  {
   "cell_type": "markdown",
   "metadata": {},
   "source": [
    "# Smoking"
   ]
  },
  {
   "cell_type": "code",
   "execution_count": 1054,
   "metadata": {},
   "outputs": [
    {
     "name": "stdout",
     "output_type": "stream",
     "text": [
      "Smoking\n",
      "No     187887\n",
      "Yes    131908\n",
      "Name: count, dtype: int64\n",
      "Smoking\n",
      "Never smoked                             147737\n",
      "Former smoker                             68527\n",
      "Current smoker - now smokes every day     21659\n",
      "Current smoker - now smokes some days      8099\n",
      "Name: count, dtype: int64\n"
     ]
    }
   ],
   "source": [
    "# Displaying the value counts for the Smoking column for 2020 and 2022 data\n",
    "print(heart_2020_cleaned['Smoking'].value_counts())\n",
    "print(data_2022_final['Smoking'].value_counts())"
   ]
  },
  {
   "cell_type": "code",
   "execution_count": 1055,
   "metadata": {},
   "outputs": [],
   "source": [
    "# Correctly map detailed smoking status to binary \"Yes\"/\"No\"\n",
    "data_2022_final = data_2022_final.copy()\n",
    "\n",
    "data_2022_final['Smoking'] = data_2022_final['Smoking'].map({\n",
    "    'Never smoked': 'No',\n",
    "    'Former smoker': 'Yes',\n",
    "    'Current smoker - now smokes every day': 'Yes',\n",
    "    'Current smoker - now smokes some days': 'Yes'\n",
    "})\n",
    "\n"
   ]
  },
  {
   "cell_type": "code",
   "execution_count": 1056,
   "metadata": {},
   "outputs": [
    {
     "name": "stdout",
     "output_type": "stream",
     "text": [
      "Smoking\n",
      "No     147737\n",
      "Yes     98285\n",
      "Name: count, dtype: int64\n"
     ]
    }
   ],
   "source": [
    "# Validate the mapping\n",
    "print(data_2022_final['Smoking'].value_counts())"
   ]
  },
  {
   "cell_type": "markdown",
   "metadata": {},
   "source": [
    "# AlcoholDrinking"
   ]
  },
  {
   "cell_type": "code",
   "execution_count": 1057,
   "metadata": {},
   "outputs": [
    {
     "name": "stdout",
     "output_type": "stream",
     "text": [
      "AlcoholDrinking\n",
      "No     298018\n",
      "Yes     21777\n",
      "Name: count, dtype: int64\n",
      "AlcoholDrinking\n",
      "Yes    135307\n",
      "No     110715\n",
      "Name: count, dtype: int64\n"
     ]
    }
   ],
   "source": [
    "# Displaying the value counts for the AlcoholDrinking column for 2020 and 2022 data\n",
    "print(heart_2020_cleaned['AlcoholDrinking'].value_counts())\n",
    "print(data_2022_final['AlcoholDrinking'].value_counts())\n"
   ]
  },
  {
   "cell_type": "markdown",
   "metadata": {},
   "source": [
    "# Stroke\n"
   ]
  },
  {
   "cell_type": "code",
   "execution_count": 1058,
   "metadata": {},
   "outputs": [
    {
     "name": "stdout",
     "output_type": "stream",
     "text": [
      "Stroke\n",
      "No     307726\n",
      "Yes     12069\n",
      "Name: count, dtype: int64\n",
      "Stroke\n",
      "No     235910\n",
      "Yes     10112\n",
      "Name: count, dtype: int64\n"
     ]
    }
   ],
   "source": [
    "# Displaying the value counts for the Stroke column for 2020 and 2022 data\n",
    "print(heart_2020_cleaned['Stroke'].value_counts())\n",
    "print(data_2022_final['Stroke'].value_counts())"
   ]
  },
  {
   "cell_type": "markdown",
   "metadata": {},
   "source": [
    "# PhysicalHealth"
   ]
  },
  {
   "cell_type": "code",
   "execution_count": 1059,
   "metadata": {},
   "outputs": [
    {
     "name": "stdout",
     "output_type": "stream",
     "text": [
      "PhysicalHealth\n",
      "0.0     226589\n",
      "30.0     19509\n",
      "2.0      14880\n",
      "1.0      10489\n",
      "3.0       8617\n",
      "5.0       7606\n",
      "10.0      5453\n",
      "15.0      5012\n",
      "7.0       4629\n",
      "4.0       4468\n",
      "20.0      3216\n",
      "14.0      2893\n",
      "6.0       1270\n",
      "25.0      1164\n",
      "8.0        924\n",
      "21.0       626\n",
      "12.0       605\n",
      "28.0       446\n",
      "29.0       204\n",
      "9.0        180\n",
      "18.0       167\n",
      "16.0       135\n",
      "27.0       124\n",
      "17.0       110\n",
      "13.0        91\n",
      "22.0        89\n",
      "11.0        85\n",
      "24.0        67\n",
      "26.0        66\n",
      "23.0        46\n",
      "19.0        35\n",
      "Name: count, dtype: int64\n",
      "PhysicalHealth\n",
      "0.0     152802\n",
      "30.0     17160\n",
      "2.0      14728\n",
      "1.0      10058\n",
      "3.0       9137\n",
      "5.0       8939\n",
      "10.0      6068\n",
      "7.0       5221\n",
      "4.0       4906\n",
      "15.0      4845\n",
      "20.0      2950\n",
      "14.0      2813\n",
      "6.0       1421\n",
      "25.0      1123\n",
      "8.0        961\n",
      "12.0       610\n",
      "21.0       584\n",
      "28.0       365\n",
      "9.0        211\n",
      "29.0       178\n",
      "18.0       151\n",
      "16.0       126\n",
      "27.0       103\n",
      "17.0       101\n",
      "11.0        95\n",
      "13.0        87\n",
      "22.0        72\n",
      "26.0        64\n",
      "24.0        60\n",
      "23.0        54\n",
      "19.0        29\n",
      "Name: count, dtype: int64\n"
     ]
    }
   ],
   "source": [
    "# Displaying the value counts for the PhysicalHealth column for 2020 and 2022 data\n",
    "print(heart_2020_cleaned['PhysicalHealth'].value_counts())\n",
    "print(data_2022_final['PhysicalHealth'].value_counts())\n"
   ]
  },
  {
   "cell_type": "markdown",
   "metadata": {},
   "source": [
    "# MentalHealth"
   ]
  },
  {
   "cell_type": "code",
   "execution_count": 1060,
   "metadata": {},
   "outputs": [
    {
     "name": "stdout",
     "output_type": "stream",
     "text": [
      "MentalHealth\n",
      "0.0     205401\n",
      "30.0     17373\n",
      "2.0      16495\n",
      "5.0      14149\n",
      "10.0     10513\n",
      "3.0      10466\n",
      "15.0      9896\n",
      "1.0       9291\n",
      "7.0       5528\n",
      "20.0      5431\n",
      "4.0       5379\n",
      "14.0      2048\n",
      "25.0      1954\n",
      "6.0       1510\n",
      "8.0       1094\n",
      "12.0       757\n",
      "28.0       515\n",
      "21.0       352\n",
      "29.0       317\n",
      "18.0       211\n",
      "9.0        203\n",
      "16.0       152\n",
      "17.0       128\n",
      "27.0       126\n",
      "13.0       110\n",
      "22.0        98\n",
      "11.0        83\n",
      "23.0        68\n",
      "24.0        67\n",
      "26.0        59\n",
      "19.0        21\n",
      "Name: count, dtype: int64\n",
      "MentalHealth\n",
      "0.0     150454\n",
      "2.0      13810\n",
      "30.0     13702\n",
      "5.0      11623\n",
      "3.0       8849\n",
      "10.0      8831\n",
      "1.0       8244\n",
      "15.0      8061\n",
      "20.0      4925\n",
      "4.0       4568\n",
      "7.0       4485\n",
      "25.0      1647\n",
      "14.0      1573\n",
      "6.0       1326\n",
      "8.0        973\n",
      "12.0       715\n",
      "28.0       484\n",
      "21.0       301\n",
      "29.0       261\n",
      "18.0       166\n",
      "16.0       165\n",
      "9.0        145\n",
      "17.0       132\n",
      "27.0       113\n",
      "22.0       101\n",
      "13.0        96\n",
      "11.0        69\n",
      "24.0        68\n",
      "26.0        59\n",
      "23.0        51\n",
      "19.0        25\n",
      "Name: count, dtype: int64\n"
     ]
    }
   ],
   "source": [
    "# Displaying the value counts for the MentalHealth column for 2020 and 2022 data\n",
    "print(heart_2020_cleaned['MentalHealth'].value_counts())\n",
    "print(data_2022_final['MentalHealth'].value_counts())\n"
   ]
  },
  {
   "cell_type": "markdown",
   "metadata": {},
   "source": [
    "# DiffWalking\n"
   ]
  },
  {
   "cell_type": "code",
   "execution_count": 1061,
   "metadata": {},
   "outputs": [
    {
     "name": "stdout",
     "output_type": "stream",
     "text": [
      "DiffWalking\n",
      "No     275385\n",
      "Yes     44410\n",
      "Name: count, dtype: int64\n",
      "DiffWalking\n",
      "No     209952\n",
      "Yes     36070\n",
      "Name: count, dtype: int64\n"
     ]
    }
   ],
   "source": [
    "# Displaying the value counts for the DiffWalking column for 2020 and 2022 data\n",
    "print(heart_2020_cleaned['DiffWalking'].value_counts())\n",
    "print(data_2022_final['DiffWalking'].value_counts())\n"
   ]
  },
  {
   "cell_type": "markdown",
   "metadata": {},
   "source": [
    "# Sex "
   ]
  },
  {
   "cell_type": "code",
   "execution_count": 1062,
   "metadata": {},
   "outputs": [
    {
     "name": "stdout",
     "output_type": "stream",
     "text": [
      "Sex\n",
      "Female    167805\n",
      "Male      151990\n",
      "Name: count, dtype: int64\n",
      "Sex\n",
      "Female    127811\n",
      "Male      118211\n",
      "Name: count, dtype: int64\n"
     ]
    }
   ],
   "source": [
    "# Displaying the value counts for the Sex column for 2020 and 2022 data\n",
    "print(heart_2020_cleaned['Sex'].value_counts())\n",
    "print(data_2022_final['Sex'].value_counts())"
   ]
  },
  {
   "cell_type": "markdown",
   "metadata": {},
   "source": [
    "# AgeCategory"
   ]
  },
  {
   "cell_type": "code",
   "execution_count": 1063,
   "metadata": {},
   "outputs": [
    {
     "name": "stdout",
     "output_type": "stream",
     "text": [
      "AgeCategory\n",
      "65-69          34151\n",
      "60-64          33686\n",
      "70-74          31065\n",
      "55-59          29757\n",
      "50-54          25382\n",
      "80 or older    24153\n",
      "45-49          21791\n",
      "75-79          21482\n",
      "18-24          21064\n",
      "40-44          21006\n",
      "35-39          20550\n",
      "30-34          18753\n",
      "25-29          16955\n",
      "Name: count, dtype: int64\n",
      "AgeCategory\n",
      "Age 65 to 69       28557\n",
      "Age 60 to 64       26720\n",
      "Age 70 to 74       25739\n",
      "Age 55 to 59       22224\n",
      "Age 50 to 54       19913\n",
      "Age 75 to 79       18136\n",
      "Age 80 or older    17816\n",
      "Age 40 to 44       16973\n",
      "Age 45 to 49       16753\n",
      "Age 35 to 39       15614\n",
      "Age 30 to 34       13346\n",
      "Age 18 to 24       13122\n",
      "Age 25 to 29       11109\n",
      "Name: count, dtype: int64\n"
     ]
    }
   ],
   "source": [
    "# Displaying the value counts for the AgeCategory column for 2020 and 2022 data\n",
    "print(heart_2020_cleaned['AgeCategory'].value_counts())\n",
    "print(data_2022_final['AgeCategory'].value_counts())"
   ]
  },
  {
   "cell_type": "code",
   "execution_count": 1064,
   "metadata": {},
   "outputs": [],
   "source": [
    "age_category_mapping_2022_to_2020 = {\n",
    "    'Age 65 to 69': '65-69',\n",
    "    'Age 60 to 64': '60-64',\n",
    "    'Age 70 to 74': '70-74',\n",
    "    'Age 55 to 59': '55-59',\n",
    "    'Age 50 to 54': '50-54',\n",
    "    'Age 75 to 79': '75-79',\n",
    "    'Age 80 or older': '80 or older',\n",
    "    'Age 40 to 44': '40-44',\n",
    "    'Age 45 to 49': '45-49',\n",
    "    'Age 35 to 39': '35-39',\n",
    "    'Age 30 to 34': '30-34',\n",
    "    'Age 18 to 24': '18-24',\n",
    "    'Age 25 to 29': '25-29'\n",
    "}\n",
    "\n",
    "# Correctly map age categories\n",
    "data_2022_final['AgeCategory'] = data_2022_final['AgeCategory'].map(age_category_mapping_2022_to_2020)\n"
   ]
  },
  {
   "cell_type": "code",
   "execution_count": 1065,
   "metadata": {},
   "outputs": [
    {
     "name": "stdout",
     "output_type": "stream",
     "text": [
      "AgeCategory\n",
      "65-69          28557\n",
      "60-64          26720\n",
      "70-74          25739\n",
      "55-59          22224\n",
      "50-54          19913\n",
      "75-79          18136\n",
      "80 or older    17816\n",
      "40-44          16973\n",
      "45-49          16753\n",
      "35-39          15614\n",
      "30-34          13346\n",
      "18-24          13122\n",
      "25-29          11109\n",
      "Name: count, dtype: int64\n"
     ]
    }
   ],
   "source": [
    "# Validate the mapping\n",
    "print(data_2022_final['AgeCategory'].value_counts())"
   ]
  },
  {
   "cell_type": "markdown",
   "metadata": {},
   "source": [
    "# Race"
   ]
  },
  {
   "cell_type": "code",
   "execution_count": 1066,
   "metadata": {},
   "outputs": [
    {
     "name": "stdout",
     "output_type": "stream",
     "text": [
      "Race\n",
      "White                             245212\n",
      "Hispanic                           27446\n",
      "Black                              22939\n",
      "Other                              10928\n",
      "Asian                               8068\n",
      "American Indian/Alaskan Native      5202\n",
      "Name: count, dtype: int64\n",
      "Race\n",
      "White only, Non-Hispanic         186336\n",
      "Hispanic                          22570\n",
      "Black only, Non-Hispanic          19330\n",
      "Other race only, Non-Hispanic     12205\n",
      "Multiracial, Non-Hispanic          5581\n",
      "Name: count, dtype: int64\n"
     ]
    }
   ],
   "source": [
    "# Displaying the value counts for the Race column for 2020 and 2022 data\n",
    "print(heart_2020_cleaned['Race'].value_counts())\n",
    "print(data_2022_final['Race'].value_counts())"
   ]
  },
  {
   "cell_type": "code",
   "execution_count": 1067,
   "metadata": {},
   "outputs": [],
   "source": [
    "race_mapping = {\n",
    "    'White only, Non-Hispanic': 'White',\n",
    "    'Hispanic': 'Hispanic',\n",
    "    'Black only, Non-Hispanic': 'Black',\n",
    "    'Other race only, Non-Hispanic': 'Other',  # Assuming \"Other race\" can be mapped to \"Other\"\n",
    "    'Multiracial, Non-Hispanic': 'Other',  # Mapping Multiracial to \"Other\" due to lack of direct equivalent\n",
    "    # Assuming \"Asian\" and \"American Indian/Alaskan Native\" need handling if present in data\n",
    "}\n",
    "\n",
    "# Correctly map race categories\n",
    "data_2022_final['Race'] = data_2022_final['Race'].map(race_mapping)\n"
   ]
  },
  {
   "cell_type": "code",
   "execution_count": 1068,
   "metadata": {},
   "outputs": [
    {
     "name": "stdout",
     "output_type": "stream",
     "text": [
      "Race\n",
      "White       186336\n",
      "Hispanic     22570\n",
      "Black        19330\n",
      "Other        17786\n",
      "Name: count, dtype: int64\n"
     ]
    }
   ],
   "source": [
    "# Validate the mapping\n",
    "print(data_2022_final['Race'].value_counts())"
   ]
  },
  {
   "cell_type": "markdown",
   "metadata": {},
   "source": [
    "# Diabetic"
   ]
  },
  {
   "cell_type": "code",
   "execution_count": 1069,
   "metadata": {},
   "outputs": [
    {
     "name": "stdout",
     "output_type": "stream",
     "text": [
      "Diabetic\n",
      "No                         269653\n",
      "Yes                         40802\n",
      "No, borderline diabetes      6781\n",
      "Yes (during pregnancy)       2559\n",
      "Name: count, dtype: int64\n",
      "Diabetic\n",
      "No                                         204834\n",
      "Yes                                         33813\n",
      "No, pre-diabetes or borderline diabetes      5392\n",
      "Yes, but only during pregnancy (female)      1983\n",
      "Name: count, dtype: int64\n"
     ]
    }
   ],
   "source": [
    "# Displaying the value counts for the Diabetic column for 2020 and 2022 data\n",
    "print(heart_2020_cleaned['Diabetic'].value_counts())\n",
    "print(data_2022_final['Diabetic'].value_counts())\n"
   ]
  },
  {
   "cell_type": "code",
   "execution_count": 1070,
   "metadata": {},
   "outputs": [],
   "source": [
    "# Apply the mapping (ensure this is done correctly as per your mapping dictionary)\n",
    "diabetic_mapping_2022_to_2020 = {\n",
    "    'No': 'No',  # Non-diabetic\n",
    "    'Yes': 'Yes',  # Diabetic\n",
    "    'Yes, but only during pregnancy (female)': 'Yes (during pregnancy)',  # Mapping to a category that indicates pregnancy\n",
    "    'No, pre-diabetes or borderline diabetes': 'No, borderline diabetes'  # Mapping to a category indicating borderline diabetes\n",
    "}\n",
    "# Apply the corrected mapping\n",
    "data_2022_final['Diabetic'] = data_2022_final['Diabetic'].map(diabetic_mapping_2022_to_2020)\n"
   ]
  },
  {
   "cell_type": "code",
   "execution_count": 1071,
   "metadata": {},
   "outputs": [
    {
     "name": "stdout",
     "output_type": "stream",
     "text": [
      "Diabetic\n",
      "No                         204834\n",
      "Yes                         33813\n",
      "No, borderline diabetes      5392\n",
      "Yes (during pregnancy)       1983\n",
      "Name: count, dtype: int64\n"
     ]
    }
   ],
   "source": [
    "# Validate the mapping\n",
    "print(data_2022_final['Diabetic'].value_counts())"
   ]
  },
  {
   "cell_type": "markdown",
   "metadata": {},
   "source": [
    "# PhysicalActivity"
   ]
  },
  {
   "cell_type": "code",
   "execution_count": 1072,
   "metadata": {},
   "outputs": [
    {
     "name": "stdout",
     "output_type": "stream",
     "text": [
      "PhysicalActivity\n",
      "Yes    247957\n",
      "No      71838\n",
      "Name: count, dtype: int64\n",
      "PhysicalActivity\n",
      "Yes    191318\n",
      "No      54704\n",
      "Name: count, dtype: int64\n"
     ]
    }
   ],
   "source": [
    "# Displaying the value counts for the PhysicalActivity column for 2020 and 2022 data\n",
    "print(heart_2020_cleaned['PhysicalActivity'].value_counts())\n",
    "print(data_2022_final['PhysicalActivity'].value_counts())\n"
   ]
  },
  {
   "cell_type": "markdown",
   "metadata": {},
   "source": [
    "# GenHealth"
   ]
  },
  {
   "cell_type": "code",
   "execution_count": 1073,
   "metadata": {},
   "outputs": [
    {
     "name": "stdout",
     "output_type": "stream",
     "text": [
      "GenHealth\n",
      "Very good    113858\n",
      "Good          93129\n",
      "Excellent     66842\n",
      "Fair          34677\n",
      "Poor          11289\n",
      "Name: count, dtype: int64\n",
      "GenHealth\n",
      "Very good    86999\n",
      "Good         77409\n",
      "Excellent    41525\n",
      "Fair         30659\n",
      "Poor          9430\n",
      "Name: count, dtype: int64\n"
     ]
    }
   ],
   "source": [
    "# Displaying the value counts for the GenHealth column for 2020 and 2022 data\n",
    "print(heart_2020_cleaned['GenHealth'].value_counts())\n",
    "print(data_2022_final['GenHealth'].value_counts())"
   ]
  },
  {
   "cell_type": "markdown",
   "metadata": {},
   "source": [
    "# SleepTime"
   ]
  },
  {
   "cell_type": "code",
   "execution_count": 1074,
   "metadata": {},
   "outputs": [
    {
     "name": "stdout",
     "output_type": "stream",
     "text": [
      "SleepTime\n",
      "7.0     97751\n",
      "8.0     97602\n",
      "6.0     66721\n",
      "5.0     19184\n",
      "9.0     16041\n",
      "10.0     7796\n",
      "4.0      7750\n",
      "12.0     2205\n",
      "3.0      1992\n",
      "2.0       788\n",
      "1.0       551\n",
      "11.0      415\n",
      "14.0      243\n",
      "16.0      236\n",
      "15.0      189\n",
      "18.0      102\n",
      "13.0       97\n",
      "20.0       64\n",
      "24.0       30\n",
      "17.0       21\n",
      "22.0        9\n",
      "19.0        3\n",
      "23.0        3\n",
      "21.0        2\n",
      "Name: count, dtype: int64\n",
      "SleepTime\n",
      "7.0     76447\n",
      "8.0     69927\n",
      "6.0     53981\n",
      "5.0     16417\n",
      "9.0     11859\n",
      "4.0      6478\n",
      "10.0     5468\n",
      "3.0      1618\n",
      "12.0     1476\n",
      "2.0       740\n",
      "1.0       563\n",
      "11.0      339\n",
      "16.0      155\n",
      "15.0      154\n",
      "14.0      148\n",
      "18.0       83\n",
      "13.0       79\n",
      "20.0       50\n",
      "24.0       13\n",
      "17.0       11\n",
      "23.0        6\n",
      "19.0        5\n",
      "22.0        5\n",
      "Name: count, dtype: int64\n"
     ]
    }
   ],
   "source": [
    "# Displaying the value counts for the SleepTime column for 2020 and 2022 data\n",
    "print(heart_2020_cleaned['SleepTime'].value_counts())\n",
    "print(data_2022_final['SleepTime'].value_counts())\n"
   ]
  },
  {
   "cell_type": "markdown",
   "metadata": {},
   "source": [
    "# Asthma"
   ]
  },
  {
   "cell_type": "code",
   "execution_count": 1075,
   "metadata": {},
   "outputs": [
    {
     "name": "stdout",
     "output_type": "stream",
     "text": [
      "Asthma\n",
      "No     276923\n",
      "Yes     42872\n",
      "Name: count, dtype: int64\n",
      "Asthma\n",
      "No     209493\n",
      "Yes     36529\n",
      "Name: count, dtype: int64\n"
     ]
    }
   ],
   "source": [
    "# Displaying the value counts for the Asthma column for 2020 and 2022 data\n",
    "print(heart_2020_cleaned['Asthma'].value_counts())\n",
    "print(data_2022_final['Asthma'].value_counts())"
   ]
  },
  {
   "cell_type": "markdown",
   "metadata": {},
   "source": [
    "# KidneyDisease"
   ]
  },
  {
   "cell_type": "code",
   "execution_count": 1076,
   "metadata": {},
   "outputs": [
    {
     "name": "stdout",
     "output_type": "stream",
     "text": [
      "KidneyDisease\n",
      "No     308016\n",
      "Yes     11779\n",
      "Name: count, dtype: int64\n",
      "KidneyDisease\n",
      "No     234738\n",
      "Yes     11284\n",
      "Name: count, dtype: int64\n"
     ]
    }
   ],
   "source": [
    "# Displaying the value counts for the KidneyDisease column for 2020 and 2022 data\n",
    "print(heart_2020_cleaned['KidneyDisease'].value_counts())\n",
    "print(data_2022_final['KidneyDisease'].value_counts())"
   ]
  },
  {
   "cell_type": "markdown",
   "metadata": {},
   "source": [
    "# SkinCancer"
   ]
  },
  {
   "cell_type": "code",
   "execution_count": 1077,
   "metadata": {},
   "outputs": [
    {
     "name": "stdout",
     "output_type": "stream",
     "text": [
      "SkinCancer\n",
      "No     289976\n",
      "Yes     29819\n",
      "Name: count, dtype: int64\n",
      "SkinCancer\n",
      "No     225001\n",
      "Yes     21021\n",
      "Name: count, dtype: int64\n"
     ]
    }
   ],
   "source": [
    "# Displaying the value counts for the SkinCancer column for 2020 and 2022 data\n",
    "print(heart_2020_cleaned['SkinCancer'].value_counts())\n",
    "print(data_2022_final['SkinCancer'].value_counts())"
   ]
  },
  {
   "cell_type": "markdown",
   "metadata": {},
   "source": [
    "# Validating 2022 vs 2020 data once more"
   ]
  },
  {
   "cell_type": "code",
   "execution_count": 1078,
   "metadata": {},
   "outputs": [
    {
     "name": "stdout",
     "output_type": "stream",
     "text": [
      "HeartDisease         object\n",
      "BMI                 float64\n",
      "Smoking              object\n",
      "AlcoholDrinking      object\n",
      "Stroke               object\n",
      "PhysicalHealth      float64\n",
      "MentalHealth        float64\n",
      "DiffWalking          object\n",
      "Sex                  object\n",
      "AgeCategory          object\n",
      "Race                 object\n",
      "Diabetic             object\n",
      "PhysicalActivity     object\n",
      "GenHealth            object\n",
      "SleepTime           float64\n",
      "Asthma               object\n",
      "KidneyDisease        object\n",
      "SkinCancer           object\n",
      "dtype: object\n",
      "HeartDisease         object\n",
      "BMI                 float64\n",
      "Smoking              object\n",
      "AlcoholDrinking      object\n",
      "Stroke               object\n",
      "PhysicalHealth      float64\n",
      "MentalHealth        float64\n",
      "DiffWalking          object\n",
      "Sex                  object\n",
      "AgeCategory          object\n",
      "Race                 object\n",
      "Diabetic             object\n",
      "PhysicalActivity     object\n",
      "GenHealth            object\n",
      "SleepTime           float64\n",
      "Asthma               object\n",
      "KidneyDisease        object\n",
      "SkinCancer           object\n",
      "dtype: object\n"
     ]
    }
   ],
   "source": [
    "# Display the dtypes for the 2022 data and 2020 data\n",
    "print(data_2022_final.dtypes)\n",
    "print(heart_2020_cleaned.dtypes)"
   ]
  },
  {
   "cell_type": "code",
   "execution_count": 1079,
   "metadata": {},
   "outputs": [],
   "source": [
    "columns_order_2020 = [\n",
    "    'HeartDisease', 'BMI', 'Smoking', 'AlcoholDrinking', 'Stroke', 'PhysicalHealth',\n",
    "    'MentalHealth', 'DiffWalking', 'Sex', 'AgeCategory', 'Race', 'Diabetic',\n",
    "    'PhysicalActivity', 'GenHealth', 'SleepTime', 'Asthma', 'KidneyDisease', 'SkinCancer'\n",
    "]\n",
    "\n",
    "# Rearrange the 2022 dataset to match the 2020 columns order\n",
    "data_2022_final = data_2022_final[columns_order_2020]\n"
   ]
  },
  {
   "cell_type": "code",
   "execution_count": 1080,
   "metadata": {},
   "outputs": [
    {
     "data": {
      "text/html": [
       "<div>\n",
       "<style scoped>\n",
       "    .dataframe tbody tr th:only-of-type {\n",
       "        vertical-align: middle;\n",
       "    }\n",
       "\n",
       "    .dataframe tbody tr th {\n",
       "        vertical-align: top;\n",
       "    }\n",
       "\n",
       "    .dataframe thead th {\n",
       "        text-align: right;\n",
       "    }\n",
       "</style>\n",
       "<table border=\"1\" class=\"dataframe\">\n",
       "  <thead>\n",
       "    <tr style=\"text-align: right;\">\n",
       "      <th></th>\n",
       "      <th>HeartDisease</th>\n",
       "      <th>BMI</th>\n",
       "      <th>Smoking</th>\n",
       "      <th>AlcoholDrinking</th>\n",
       "      <th>Stroke</th>\n",
       "      <th>PhysicalHealth</th>\n",
       "      <th>MentalHealth</th>\n",
       "      <th>DiffWalking</th>\n",
       "      <th>Sex</th>\n",
       "      <th>AgeCategory</th>\n",
       "      <th>Race</th>\n",
       "      <th>Diabetic</th>\n",
       "      <th>PhysicalActivity</th>\n",
       "      <th>GenHealth</th>\n",
       "      <th>SleepTime</th>\n",
       "      <th>Asthma</th>\n",
       "      <th>KidneyDisease</th>\n",
       "      <th>SkinCancer</th>\n",
       "    </tr>\n",
       "  </thead>\n",
       "  <tbody>\n",
       "    <tr>\n",
       "      <th>0</th>\n",
       "      <td>No</td>\n",
       "      <td>27.99</td>\n",
       "      <td>Yes</td>\n",
       "      <td>No</td>\n",
       "      <td>No</td>\n",
       "      <td>4.0</td>\n",
       "      <td>0.0</td>\n",
       "      <td>No</td>\n",
       "      <td>Female</td>\n",
       "      <td>65-69</td>\n",
       "      <td>White</td>\n",
       "      <td>No</td>\n",
       "      <td>Yes</td>\n",
       "      <td>Very good</td>\n",
       "      <td>9.0</td>\n",
       "      <td>No</td>\n",
       "      <td>No</td>\n",
       "      <td>No</td>\n",
       "    </tr>\n",
       "    <tr>\n",
       "      <th>1</th>\n",
       "      <td>No</td>\n",
       "      <td>30.13</td>\n",
       "      <td>Yes</td>\n",
       "      <td>No</td>\n",
       "      <td>No</td>\n",
       "      <td>0.0</td>\n",
       "      <td>0.0</td>\n",
       "      <td>No</td>\n",
       "      <td>Male</td>\n",
       "      <td>70-74</td>\n",
       "      <td>White</td>\n",
       "      <td>Yes</td>\n",
       "      <td>Yes</td>\n",
       "      <td>Very good</td>\n",
       "      <td>6.0</td>\n",
       "      <td>No</td>\n",
       "      <td>No</td>\n",
       "      <td>No</td>\n",
       "    </tr>\n",
       "    <tr>\n",
       "      <th>2</th>\n",
       "      <td>No</td>\n",
       "      <td>31.66</td>\n",
       "      <td>Yes</td>\n",
       "      <td>Yes</td>\n",
       "      <td>No</td>\n",
       "      <td>0.0</td>\n",
       "      <td>0.0</td>\n",
       "      <td>Yes</td>\n",
       "      <td>Male</td>\n",
       "      <td>75-79</td>\n",
       "      <td>White</td>\n",
       "      <td>No</td>\n",
       "      <td>No</td>\n",
       "      <td>Very good</td>\n",
       "      <td>8.0</td>\n",
       "      <td>No</td>\n",
       "      <td>No</td>\n",
       "      <td>No</td>\n",
       "    </tr>\n",
       "    <tr>\n",
       "      <th>3</th>\n",
       "      <td>No</td>\n",
       "      <td>31.32</td>\n",
       "      <td>No</td>\n",
       "      <td>No</td>\n",
       "      <td>No</td>\n",
       "      <td>5.0</td>\n",
       "      <td>0.0</td>\n",
       "      <td>Yes</td>\n",
       "      <td>Female</td>\n",
       "      <td>80 or older</td>\n",
       "      <td>White</td>\n",
       "      <td>No</td>\n",
       "      <td>Yes</td>\n",
       "      <td>Fair</td>\n",
       "      <td>9.0</td>\n",
       "      <td>No</td>\n",
       "      <td>No</td>\n",
       "      <td>Yes</td>\n",
       "    </tr>\n",
       "    <tr>\n",
       "      <th>4</th>\n",
       "      <td>No</td>\n",
       "      <td>33.07</td>\n",
       "      <td>No</td>\n",
       "      <td>No</td>\n",
       "      <td>No</td>\n",
       "      <td>3.0</td>\n",
       "      <td>15.0</td>\n",
       "      <td>No</td>\n",
       "      <td>Female</td>\n",
       "      <td>80 or older</td>\n",
       "      <td>White</td>\n",
       "      <td>No</td>\n",
       "      <td>Yes</td>\n",
       "      <td>Good</td>\n",
       "      <td>5.0</td>\n",
       "      <td>No</td>\n",
       "      <td>No</td>\n",
       "      <td>No</td>\n",
       "    </tr>\n",
       "  </tbody>\n",
       "</table>\n",
       "</div>"
      ],
      "text/plain": [
       "  HeartDisease    BMI Smoking AlcoholDrinking Stroke  PhysicalHealth  \\\n",
       "0           No  27.99     Yes              No     No             4.0   \n",
       "1           No  30.13     Yes              No     No             0.0   \n",
       "2           No  31.66     Yes             Yes     No             0.0   \n",
       "3           No  31.32      No              No     No             5.0   \n",
       "4           No  33.07      No              No     No             3.0   \n",
       "\n",
       "   MentalHealth DiffWalking     Sex  AgeCategory   Race Diabetic  \\\n",
       "0           0.0          No  Female        65-69  White       No   \n",
       "1           0.0          No    Male        70-74  White      Yes   \n",
       "2           0.0         Yes    Male        75-79  White       No   \n",
       "3           0.0         Yes  Female  80 or older  White       No   \n",
       "4          15.0          No  Female  80 or older  White       No   \n",
       "\n",
       "  PhysicalActivity  GenHealth  SleepTime Asthma KidneyDisease SkinCancer  \n",
       "0              Yes  Very good        9.0     No            No         No  \n",
       "1              Yes  Very good        6.0     No            No         No  \n",
       "2               No  Very good        8.0     No            No         No  \n",
       "3              Yes       Fair        9.0     No            No        Yes  \n",
       "4              Yes       Good        5.0     No            No         No  "
      ]
     },
     "execution_count": 1080,
     "metadata": {},
     "output_type": "execute_result"
    }
   ],
   "source": [
    "# Display the first 5 rows of the dataframe\n",
    "data_2022_final.head()"
   ]
  },
  {
   "cell_type": "code",
   "execution_count": 1081,
   "metadata": {},
   "outputs": [
    {
     "data": {
      "text/plain": [
       "HeartDisease        0\n",
       "BMI                 0\n",
       "Smoking             0\n",
       "AlcoholDrinking     0\n",
       "Stroke              0\n",
       "PhysicalHealth      0\n",
       "MentalHealth        0\n",
       "DiffWalking         0\n",
       "Sex                 0\n",
       "AgeCategory         0\n",
       "Race                0\n",
       "Diabetic            0\n",
       "PhysicalActivity    0\n",
       "GenHealth           0\n",
       "SleepTime           0\n",
       "Asthma              0\n",
       "KidneyDisease       0\n",
       "SkinCancer          0\n",
       "dtype: int64"
      ]
     },
     "execution_count": 1081,
     "metadata": {},
     "output_type": "execute_result"
    }
   ],
   "source": [
    "# Look for missing values in the 2022 data\n",
    "data_2022_final.isna().sum()"
   ]
  },
  {
   "cell_type": "code",
   "execution_count": 1082,
   "metadata": {},
   "outputs": [
    {
     "data": {
      "text/plain": [
       "(246022, 18)"
      ]
     },
     "execution_count": 1082,
     "metadata": {},
     "output_type": "execute_result"
    }
   ],
   "source": [
    "data_2022_final.shape"
   ]
  },
  {
   "cell_type": "code",
   "execution_count": 1083,
   "metadata": {},
   "outputs": [],
   "source": [
    "# Export the 2022 data to a new CSV file named \"heart_2022_cleaned.csv\"\n",
    "data_2022_final.to_csv('heart_2022_cleaned.csv', index=False)\n"
   ]
  },
  {
   "cell_type": "markdown",
   "metadata": {},
   "source": [
    "# Encoding"
   ]
  },
  {
   "cell_type": "code",
   "execution_count": 1084,
   "metadata": {},
   "outputs": [],
   "source": [
    "# Encoding age_category\n",
    "# Define the order for age categories based on the dataset's unique values\n",
    "age_category_order = ['18-24', '25-29', '30-34', '35-39', '40-44', '45-49',\n",
    "                      '50-54', '55-59', '60-64', '65-69', '70-74', '75-79', '80 or older']\n",
    "\n",
    "# Map the age categories to ordinal values\n",
    "age_category_mapping = {category: index for index, category in enumerate(age_category_order)}\n",
    "data_2022_final['AgeCategoryOrdinal'] = data_2022_final['AgeCategory'].map(age_category_mapping)"
   ]
  },
  {
   "cell_type": "code",
   "execution_count": 1085,
   "metadata": {},
   "outputs": [],
   "source": [
    "# Apply ordinal encoding to the dataset\n",
    "for dataset in [data_2022_final]:\n",
    "    dataset['AgeCategoryOrdinal'] = dataset['AgeCategory'].map(age_category_mapping)\n",
    "    dataset.drop('AgeCategory', axis=1, inplace=True)\n",
    "\n",
    "# Apply one-hot encoding to the remaining non-numeric columns, excluding 'AgeCategory'\n",
    "heart_2022_encoded = pd.get_dummies(data_2022_final, drop_first=True)\n"
   ]
  },
  {
   "cell_type": "code",
   "execution_count": 1086,
   "metadata": {},
   "outputs": [],
   "source": [
    "# Convert boolean columns to binary (1/0)\n",
    "columns_to_convert = ['HeartDisease_Yes', 'Smoking_Yes', 'AlcoholDrinking_Yes', 'Stroke_Yes', 'DiffWalking_Yes',\n",
    "                      'Diabetic_Yes', 'Diabetic_Yes (during pregnancy)', 'PhysicalActivity_Yes', \n",
    "                      'GenHealth_Fair', 'GenHealth_Good', 'GenHealth_Poor', 'GenHealth_Very good', \n",
    "                      'Asthma_Yes', 'KidneyDisease_Yes', 'SkinCancer_Yes']\n",
    "\n",
    "for col in columns_to_convert:\n",
    "    heart_2022_encoded[col] = heart_2022_encoded[col].astype(int)\n",
    "\n"
   ]
  },
  {
   "cell_type": "code",
   "execution_count": 1087,
   "metadata": {},
   "outputs": [
    {
     "data": {
      "text/html": [
       "<div>\n",
       "<style scoped>\n",
       "    .dataframe tbody tr th:only-of-type {\n",
       "        vertical-align: middle;\n",
       "    }\n",
       "\n",
       "    .dataframe tbody tr th {\n",
       "        vertical-align: top;\n",
       "    }\n",
       "\n",
       "    .dataframe thead th {\n",
       "        text-align: right;\n",
       "    }\n",
       "</style>\n",
       "<table border=\"1\" class=\"dataframe\">\n",
       "  <thead>\n",
       "    <tr style=\"text-align: right;\">\n",
       "      <th></th>\n",
       "      <th>BMI</th>\n",
       "      <th>PhysicalHealth</th>\n",
       "      <th>MentalHealth</th>\n",
       "      <th>SleepTime</th>\n",
       "      <th>AgeCategoryOrdinal</th>\n",
       "      <th>HeartDisease_Yes</th>\n",
       "      <th>Smoking_Yes</th>\n",
       "      <th>AlcoholDrinking_Yes</th>\n",
       "      <th>Stroke_Yes</th>\n",
       "      <th>DiffWalking_Yes</th>\n",
       "      <th>...</th>\n",
       "      <th>Diabetic_Yes</th>\n",
       "      <th>Diabetic_Yes (during pregnancy)</th>\n",
       "      <th>PhysicalActivity_Yes</th>\n",
       "      <th>GenHealth_Fair</th>\n",
       "      <th>GenHealth_Good</th>\n",
       "      <th>GenHealth_Poor</th>\n",
       "      <th>GenHealth_Very good</th>\n",
       "      <th>Asthma_Yes</th>\n",
       "      <th>KidneyDisease_Yes</th>\n",
       "      <th>SkinCancer_Yes</th>\n",
       "    </tr>\n",
       "  </thead>\n",
       "  <tbody>\n",
       "    <tr>\n",
       "      <th>0</th>\n",
       "      <td>27.99</td>\n",
       "      <td>4.0</td>\n",
       "      <td>0.0</td>\n",
       "      <td>9.0</td>\n",
       "      <td>9</td>\n",
       "      <td>0</td>\n",
       "      <td>1</td>\n",
       "      <td>0</td>\n",
       "      <td>0</td>\n",
       "      <td>0</td>\n",
       "      <td>...</td>\n",
       "      <td>0</td>\n",
       "      <td>0</td>\n",
       "      <td>1</td>\n",
       "      <td>0</td>\n",
       "      <td>0</td>\n",
       "      <td>0</td>\n",
       "      <td>1</td>\n",
       "      <td>0</td>\n",
       "      <td>0</td>\n",
       "      <td>0</td>\n",
       "    </tr>\n",
       "    <tr>\n",
       "      <th>1</th>\n",
       "      <td>30.13</td>\n",
       "      <td>0.0</td>\n",
       "      <td>0.0</td>\n",
       "      <td>6.0</td>\n",
       "      <td>10</td>\n",
       "      <td>0</td>\n",
       "      <td>1</td>\n",
       "      <td>0</td>\n",
       "      <td>0</td>\n",
       "      <td>0</td>\n",
       "      <td>...</td>\n",
       "      <td>1</td>\n",
       "      <td>0</td>\n",
       "      <td>1</td>\n",
       "      <td>0</td>\n",
       "      <td>0</td>\n",
       "      <td>0</td>\n",
       "      <td>1</td>\n",
       "      <td>0</td>\n",
       "      <td>0</td>\n",
       "      <td>0</td>\n",
       "    </tr>\n",
       "    <tr>\n",
       "      <th>2</th>\n",
       "      <td>31.66</td>\n",
       "      <td>0.0</td>\n",
       "      <td>0.0</td>\n",
       "      <td>8.0</td>\n",
       "      <td>11</td>\n",
       "      <td>0</td>\n",
       "      <td>1</td>\n",
       "      <td>1</td>\n",
       "      <td>0</td>\n",
       "      <td>1</td>\n",
       "      <td>...</td>\n",
       "      <td>0</td>\n",
       "      <td>0</td>\n",
       "      <td>0</td>\n",
       "      <td>0</td>\n",
       "      <td>0</td>\n",
       "      <td>0</td>\n",
       "      <td>1</td>\n",
       "      <td>0</td>\n",
       "      <td>0</td>\n",
       "      <td>0</td>\n",
       "    </tr>\n",
       "    <tr>\n",
       "      <th>3</th>\n",
       "      <td>31.32</td>\n",
       "      <td>5.0</td>\n",
       "      <td>0.0</td>\n",
       "      <td>9.0</td>\n",
       "      <td>12</td>\n",
       "      <td>0</td>\n",
       "      <td>0</td>\n",
       "      <td>0</td>\n",
       "      <td>0</td>\n",
       "      <td>1</td>\n",
       "      <td>...</td>\n",
       "      <td>0</td>\n",
       "      <td>0</td>\n",
       "      <td>1</td>\n",
       "      <td>1</td>\n",
       "      <td>0</td>\n",
       "      <td>0</td>\n",
       "      <td>0</td>\n",
       "      <td>0</td>\n",
       "      <td>0</td>\n",
       "      <td>1</td>\n",
       "    </tr>\n",
       "    <tr>\n",
       "      <th>4</th>\n",
       "      <td>33.07</td>\n",
       "      <td>3.0</td>\n",
       "      <td>15.0</td>\n",
       "      <td>5.0</td>\n",
       "      <td>12</td>\n",
       "      <td>0</td>\n",
       "      <td>0</td>\n",
       "      <td>0</td>\n",
       "      <td>0</td>\n",
       "      <td>0</td>\n",
       "      <td>...</td>\n",
       "      <td>0</td>\n",
       "      <td>0</td>\n",
       "      <td>1</td>\n",
       "      <td>0</td>\n",
       "      <td>1</td>\n",
       "      <td>0</td>\n",
       "      <td>0</td>\n",
       "      <td>0</td>\n",
       "      <td>0</td>\n",
       "      <td>0</td>\n",
       "    </tr>\n",
       "  </tbody>\n",
       "</table>\n",
       "<p>5 rows × 25 columns</p>\n",
       "</div>"
      ],
      "text/plain": [
       "     BMI  PhysicalHealth  MentalHealth  SleepTime  AgeCategoryOrdinal  \\\n",
       "0  27.99             4.0           0.0        9.0                   9   \n",
       "1  30.13             0.0           0.0        6.0                  10   \n",
       "2  31.66             0.0           0.0        8.0                  11   \n",
       "3  31.32             5.0           0.0        9.0                  12   \n",
       "4  33.07             3.0          15.0        5.0                  12   \n",
       "\n",
       "   HeartDisease_Yes  Smoking_Yes  AlcoholDrinking_Yes  Stroke_Yes  \\\n",
       "0                 0            1                    0           0   \n",
       "1                 0            1                    0           0   \n",
       "2                 0            1                    1           0   \n",
       "3                 0            0                    0           0   \n",
       "4                 0            0                    0           0   \n",
       "\n",
       "   DiffWalking_Yes  ...  Diabetic_Yes  Diabetic_Yes (during pregnancy)  \\\n",
       "0                0  ...             0                                0   \n",
       "1                0  ...             1                                0   \n",
       "2                1  ...             0                                0   \n",
       "3                1  ...             0                                0   \n",
       "4                0  ...             0                                0   \n",
       "\n",
       "   PhysicalActivity_Yes  GenHealth_Fair  GenHealth_Good  GenHealth_Poor  \\\n",
       "0                     1               0               0               0   \n",
       "1                     1               0               0               0   \n",
       "2                     0               0               0               0   \n",
       "3                     1               1               0               0   \n",
       "4                     1               0               1               0   \n",
       "\n",
       "   GenHealth_Very good  Asthma_Yes  KidneyDisease_Yes  SkinCancer_Yes  \n",
       "0                    1           0                  0               0  \n",
       "1                    1           0                  0               0  \n",
       "2                    1           0                  0               0  \n",
       "3                    0           0                  0               1  \n",
       "4                    0           0                  0               0  \n",
       "\n",
       "[5 rows x 25 columns]"
      ]
     },
     "metadata": {},
     "output_type": "display_data"
    },
    {
     "data": {
      "text/plain": [
       "(246022, 25)"
      ]
     },
     "metadata": {},
     "output_type": "display_data"
    }
   ],
   "source": [
    "# Verify the transformation\n",
    "display(heart_2022_encoded.head())\n",
    "display(heart_2022_encoded.shape)\n"
   ]
  },
  {
   "cell_type": "code",
   "execution_count": 1088,
   "metadata": {},
   "outputs": [
    {
     "name": "stdout",
     "output_type": "stream",
     "text": [
      "HeartDisease_Yes\n",
      "0    232587\n",
      "1     13435\n",
      "Name: count, dtype: int64\n"
     ]
    }
   ],
   "source": [
    "# Validating value counts for the target column\n",
    "print(heart_2022_encoded['HeartDisease_Yes'].value_counts())"
   ]
  },
  {
   "cell_type": "code",
   "execution_count": 1089,
   "metadata": {},
   "outputs": [
    {
     "name": "stdout",
     "output_type": "stream",
     "text": [
      "Index(['BMI', 'PhysicalHealth', 'MentalHealth', 'SleepTime',\n",
      "       'AgeCategoryOrdinal', 'HeartDisease_Yes', 'Smoking_Yes',\n",
      "       'AlcoholDrinking_Yes', 'Stroke_Yes', 'DiffWalking_Yes', 'Sex_Male',\n",
      "       'Race_Hispanic', 'Race_Other', 'Race_White',\n",
      "       'Diabetic_No, borderline diabetes', 'Diabetic_Yes',\n",
      "       'Diabetic_Yes (during pregnancy)', 'PhysicalActivity_Yes',\n",
      "       'GenHealth_Fair', 'GenHealth_Good', 'GenHealth_Poor',\n",
      "       'GenHealth_Very good', 'Asthma_Yes', 'KidneyDisease_Yes',\n",
      "       'SkinCancer_Yes'],\n",
      "      dtype='object')\n"
     ]
    }
   ],
   "source": [
    "# Validating the columns in the encoded dataset\n",
    "print(heart_2022_encoded.columns)\n"
   ]
  },
  {
   "cell_type": "code",
   "execution_count": 1090,
   "metadata": {},
   "outputs": [],
   "source": [
    "# Exporting the data in a csv so it can be used for training the various models\n",
    "heart_2022_encoded.to_csv('heart_2022_encoded.csv', index=False)\n"
   ]
  }
 ],
 "metadata": {
  "kernelspec": {
   "display_name": "dev",
   "language": "python",
   "name": "python3"
  },
  "language_info": {
   "codemirror_mode": {
    "name": "ipython",
    "version": 3
   },
   "file_extension": ".py",
   "mimetype": "text/x-python",
   "name": "python",
   "nbconvert_exporter": "python",
   "pygments_lexer": "ipython3",
   "version": "3.10.13"
  }
 },
 "nbformat": 4,
 "nbformat_minor": 2
}
